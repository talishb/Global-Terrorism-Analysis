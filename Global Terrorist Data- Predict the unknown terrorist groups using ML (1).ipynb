{
 "cells": [
  {
   "cell_type": "markdown",
   "metadata": {},
   "source": [
    "# Import Necessary Libraries\n"
   ]
  },
  {
   "cell_type": "code",
   "execution_count": 188,
   "metadata": {},
   "outputs": [],
   "source": [
    "import pandas as pd\n",
    "import numpy as np\n",
    "\n",
    "import matplotlib.pyplot as plt\n",
    "import seaborn as sns\n",
    "\n",
    "from sklearn.naive_bayes import MultinomialNB\n",
    "from sklearn.linear_model import LogisticRegression\n",
    "\n",
    "from sklearn.model_selection import train_test_split\n",
    "from sklearn.feature_extraction.text import CountVectorizer\n",
    "\n",
    "from sklearn import metrics\n",
    "\n",
    "import warnings\n",
    "warnings.filterwarnings('ignore')\n",
    "sns.set_style('darkgrid')\n",
    "sns.set_palette('inferno')\n",
    "\n",
    "%matplotlib inline"
   ]
  },
  {
   "cell_type": "code",
   "execution_count": 189,
   "metadata": {},
   "outputs": [],
   "source": [
    "gt = pd.read_csv('globalterrorismdb_0718dist.csv', encoding='ISO-8859-1',low_memory=False)\n"
   ]
  },
  {
   "cell_type": "code",
   "execution_count": 190,
   "metadata": {},
   "outputs": [
    {
     "data": {
      "text/html": [
       "<div>\n",
       "<style scoped>\n",
       "    .dataframe tbody tr th:only-of-type {\n",
       "        vertical-align: middle;\n",
       "    }\n",
       "\n",
       "    .dataframe tbody tr th {\n",
       "        vertical-align: top;\n",
       "    }\n",
       "\n",
       "    .dataframe thead th {\n",
       "        text-align: right;\n",
       "    }\n",
       "</style>\n",
       "<table border=\"1\" class=\"dataframe\">\n",
       "  <thead>\n",
       "    <tr style=\"text-align: right;\">\n",
       "      <th></th>\n",
       "      <th>eventid</th>\n",
       "      <th>iyear</th>\n",
       "      <th>imonth</th>\n",
       "      <th>iday</th>\n",
       "      <th>approxdate</th>\n",
       "      <th>extended</th>\n",
       "      <th>resolution</th>\n",
       "      <th>country</th>\n",
       "      <th>country_txt</th>\n",
       "      <th>region</th>\n",
       "      <th>...</th>\n",
       "      <th>addnotes</th>\n",
       "      <th>scite1</th>\n",
       "      <th>scite2</th>\n",
       "      <th>scite3</th>\n",
       "      <th>dbsource</th>\n",
       "      <th>INT_LOG</th>\n",
       "      <th>INT_IDEO</th>\n",
       "      <th>INT_MISC</th>\n",
       "      <th>INT_ANY</th>\n",
       "      <th>related</th>\n",
       "    </tr>\n",
       "  </thead>\n",
       "  <tbody>\n",
       "    <tr>\n",
       "      <th>0</th>\n",
       "      <td>197000000001</td>\n",
       "      <td>1970</td>\n",
       "      <td>7</td>\n",
       "      <td>2</td>\n",
       "      <td>NaN</td>\n",
       "      <td>0</td>\n",
       "      <td>NaN</td>\n",
       "      <td>58</td>\n",
       "      <td>Dominican Republic</td>\n",
       "      <td>2</td>\n",
       "      <td>...</td>\n",
       "      <td>NaN</td>\n",
       "      <td>NaN</td>\n",
       "      <td>NaN</td>\n",
       "      <td>NaN</td>\n",
       "      <td>PGIS</td>\n",
       "      <td>0</td>\n",
       "      <td>0</td>\n",
       "      <td>0</td>\n",
       "      <td>0</td>\n",
       "      <td>NaN</td>\n",
       "    </tr>\n",
       "    <tr>\n",
       "      <th>1</th>\n",
       "      <td>197000000002</td>\n",
       "      <td>1970</td>\n",
       "      <td>0</td>\n",
       "      <td>0</td>\n",
       "      <td>NaN</td>\n",
       "      <td>0</td>\n",
       "      <td>NaN</td>\n",
       "      <td>130</td>\n",
       "      <td>Mexico</td>\n",
       "      <td>1</td>\n",
       "      <td>...</td>\n",
       "      <td>NaN</td>\n",
       "      <td>NaN</td>\n",
       "      <td>NaN</td>\n",
       "      <td>NaN</td>\n",
       "      <td>PGIS</td>\n",
       "      <td>0</td>\n",
       "      <td>1</td>\n",
       "      <td>1</td>\n",
       "      <td>1</td>\n",
       "      <td>NaN</td>\n",
       "    </tr>\n",
       "    <tr>\n",
       "      <th>2</th>\n",
       "      <td>197001000001</td>\n",
       "      <td>1970</td>\n",
       "      <td>1</td>\n",
       "      <td>0</td>\n",
       "      <td>NaN</td>\n",
       "      <td>0</td>\n",
       "      <td>NaN</td>\n",
       "      <td>160</td>\n",
       "      <td>Philippines</td>\n",
       "      <td>5</td>\n",
       "      <td>...</td>\n",
       "      <td>NaN</td>\n",
       "      <td>NaN</td>\n",
       "      <td>NaN</td>\n",
       "      <td>NaN</td>\n",
       "      <td>PGIS</td>\n",
       "      <td>-9</td>\n",
       "      <td>-9</td>\n",
       "      <td>1</td>\n",
       "      <td>1</td>\n",
       "      <td>NaN</td>\n",
       "    </tr>\n",
       "    <tr>\n",
       "      <th>3</th>\n",
       "      <td>197001000002</td>\n",
       "      <td>1970</td>\n",
       "      <td>1</td>\n",
       "      <td>0</td>\n",
       "      <td>NaN</td>\n",
       "      <td>0</td>\n",
       "      <td>NaN</td>\n",
       "      <td>78</td>\n",
       "      <td>Greece</td>\n",
       "      <td>8</td>\n",
       "      <td>...</td>\n",
       "      <td>NaN</td>\n",
       "      <td>NaN</td>\n",
       "      <td>NaN</td>\n",
       "      <td>NaN</td>\n",
       "      <td>PGIS</td>\n",
       "      <td>-9</td>\n",
       "      <td>-9</td>\n",
       "      <td>1</td>\n",
       "      <td>1</td>\n",
       "      <td>NaN</td>\n",
       "    </tr>\n",
       "    <tr>\n",
       "      <th>4</th>\n",
       "      <td>197001000003</td>\n",
       "      <td>1970</td>\n",
       "      <td>1</td>\n",
       "      <td>0</td>\n",
       "      <td>NaN</td>\n",
       "      <td>0</td>\n",
       "      <td>NaN</td>\n",
       "      <td>101</td>\n",
       "      <td>Japan</td>\n",
       "      <td>4</td>\n",
       "      <td>...</td>\n",
       "      <td>NaN</td>\n",
       "      <td>NaN</td>\n",
       "      <td>NaN</td>\n",
       "      <td>NaN</td>\n",
       "      <td>PGIS</td>\n",
       "      <td>-9</td>\n",
       "      <td>-9</td>\n",
       "      <td>1</td>\n",
       "      <td>1</td>\n",
       "      <td>NaN</td>\n",
       "    </tr>\n",
       "  </tbody>\n",
       "</table>\n",
       "<p>5 rows × 135 columns</p>\n",
       "</div>"
      ],
      "text/plain": [
       "        eventid  iyear  imonth  iday approxdate  extended resolution  country  \\\n",
       "0  197000000001   1970       7     2        NaN         0        NaN       58   \n",
       "1  197000000002   1970       0     0        NaN         0        NaN      130   \n",
       "2  197001000001   1970       1     0        NaN         0        NaN      160   \n",
       "3  197001000002   1970       1     0        NaN         0        NaN       78   \n",
       "4  197001000003   1970       1     0        NaN         0        NaN      101   \n",
       "\n",
       "          country_txt  region   ...    addnotes scite1 scite2  scite3  \\\n",
       "0  Dominican Republic       2   ...         NaN    NaN    NaN     NaN   \n",
       "1              Mexico       1   ...         NaN    NaN    NaN     NaN   \n",
       "2         Philippines       5   ...         NaN    NaN    NaN     NaN   \n",
       "3              Greece       8   ...         NaN    NaN    NaN     NaN   \n",
       "4               Japan       4   ...         NaN    NaN    NaN     NaN   \n",
       "\n",
       "   dbsource  INT_LOG  INT_IDEO INT_MISC INT_ANY  related  \n",
       "0      PGIS        0         0        0       0      NaN  \n",
       "1      PGIS        0         1        1       1      NaN  \n",
       "2      PGIS       -9        -9        1       1      NaN  \n",
       "3      PGIS       -9        -9        1       1      NaN  \n",
       "4      PGIS       -9        -9        1       1      NaN  \n",
       "\n",
       "[5 rows x 135 columns]"
      ]
     },
     "execution_count": 190,
     "metadata": {},
     "output_type": "execute_result"
    }
   ],
   "source": [
    "gt.head()"
   ]
  },
  {
   "cell_type": "markdown",
   "metadata": {},
   "source": [
    "The database contains over 180,000 cases of terrorist incidents, and we can verify that using shape of the loaded dataframe. Also, we see that there are 135 columns."
   ]
  },
  {
   "cell_type": "code",
   "execution_count": 191,
   "metadata": {},
   "outputs": [
    {
     "data": {
      "text/plain": [
       "(181691, 135)"
      ]
     },
     "execution_count": 191,
     "metadata": {},
     "output_type": "execute_result"
    }
   ],
   "source": [
    "gt.shape"
   ]
  },
  {
   "cell_type": "code",
   "execution_count": 192,
   "metadata": {},
   "outputs": [
    {
     "data": {
      "text/plain": [
       "eventid                 int64\n",
       "iyear                   int64\n",
       "imonth                  int64\n",
       "iday                    int64\n",
       "approxdate             object\n",
       "extended                int64\n",
       "resolution             object\n",
       "country                 int64\n",
       "country_txt            object\n",
       "region                  int64\n",
       "region_txt             object\n",
       "provstate              object\n",
       "city                   object\n",
       "latitude              float64\n",
       "longitude             float64\n",
       "specificity           float64\n",
       "vicinity                int64\n",
       "location               object\n",
       "summary                object\n",
       "crit1                   int64\n",
       "crit2                   int64\n",
       "crit3                   int64\n",
       "doubtterr             float64\n",
       "alternative           float64\n",
       "alternative_txt        object\n",
       "multiple              float64\n",
       "success                 int64\n",
       "suicide                 int64\n",
       "attacktype1             int64\n",
       "attacktype1_txt        object\n",
       "                       ...   \n",
       "propextent            float64\n",
       "propextent_txt         object\n",
       "propvalue             float64\n",
       "propcomment            object\n",
       "ishostkid             float64\n",
       "nhostkid              float64\n",
       "nhostkidus            float64\n",
       "nhours                float64\n",
       "ndays                 float64\n",
       "divert                 object\n",
       "kidhijcountry          object\n",
       "ransom                float64\n",
       "ransomamt             float64\n",
       "ransomamtus           float64\n",
       "ransompaid            float64\n",
       "ransompaidus          float64\n",
       "ransomnote             object\n",
       "hostkidoutcome        float64\n",
       "hostkidoutcome_txt     object\n",
       "nreleased             float64\n",
       "addnotes               object\n",
       "scite1                 object\n",
       "scite2                 object\n",
       "scite3                 object\n",
       "dbsource               object\n",
       "INT_LOG                 int64\n",
       "INT_IDEO                int64\n",
       "INT_MISC                int64\n",
       "INT_ANY                 int64\n",
       "related                object\n",
       "Length: 135, dtype: object"
      ]
     },
     "execution_count": 192,
     "metadata": {},
     "output_type": "execute_result"
    }
   ],
   "source": [
    "gt.dtypes #data is a mix ofof objects, floats and integers."
   ]
  },
  {
   "cell_type": "code",
   "execution_count": 193,
   "metadata": {},
   "outputs": [
    {
     "data": {
      "text/plain": [
       "gsubname3           181671\n",
       "weapsubtype4_txt    181621\n",
       "weapsubtype4        181621\n",
       "weaptype4           181618\n",
       "weaptype4_txt       181618\n",
       "dtype: int64"
      ]
     },
     "execution_count": 193,
     "metadata": {},
     "output_type": "execute_result"
    }
   ],
   "source": [
    "#examine null values\n",
    "\n",
    "nulls = gt.isnull().sum().sort_values(ascending=False)\n",
    "nulls.head()"
   ]
  },
  {
   "cell_type": "code",
   "execution_count": 194,
   "metadata": {},
   "outputs": [
    {
     "data": {
      "text/plain": [
       "gsubname3           99.988992\n",
       "weapsubtype4_txt    99.961473\n",
       "weapsubtype4        99.961473\n",
       "weaptype4           99.959822\n",
       "weaptype4_txt       99.959822\n",
       "dtype: float64"
      ]
     },
     "execution_count": 194,
     "metadata": {},
     "output_type": "execute_result"
    }
   ],
   "source": [
    "#Lets convert the count of null values for the columns into percentages to analyse.\n",
    "\n",
    "row_count = gt.shape[0]\n",
    "nulls_percentage = 100 * nulls / row_count\n",
    "nulls_percentage.head()"
   ]
  },
  {
   "cell_type": "code",
   "execution_count": 195,
   "metadata": {},
   "outputs": [
    {
     "data": {
      "text/plain": [
       "gsubname3           75-100 %\n",
       "weapsubtype4_txt    75-100 %\n",
       "weapsubtype4        75-100 %\n",
       "weaptype4           75-100 %\n",
       "weaptype4_txt       75-100 %\n",
       "dtype: category\n",
       "Categories (5, object): [0% < 1-25 % < 25-50 % < 50-75 % < 75-100 %]"
      ]
     },
     "execution_count": 195,
     "metadata": {},
     "output_type": "execute_result"
    }
   ],
   "source": [
    "#To help with analysis, lets bin them into few groups.\n",
    "#I had noticed that some columns didn't have any null values so I have put in the No null pr 0% bin.\n",
    "#Otherwise they will be binned into 4 quartiles\n",
    "\n",
    "bins = (-1, 0, 25, 50, 75, 100)\n",
    "labels = ['0%','1-25 %','25-50 %','50-75 %','75-100 %']\n",
    "\n",
    "nulls_percentage_grouped = pd.cut(nulls_percentage, bins, labels=labels)\n",
    "nulls_percentage_grouped.head()"
   ]
  },
  {
   "cell_type": "code",
   "execution_count": 196,
   "metadata": {},
   "outputs": [
    {
     "data": {
      "text/plain": [
       "0%          29\n",
       "1-25 %      19\n",
       "25-50 %     10\n",
       "50-75 %      7\n",
       "75-100 %    70\n",
       "dtype: int64"
      ]
     },
     "execution_count": 196,
     "metadata": {},
     "output_type": "execute_result"
    }
   ],
   "source": [
    "#31 columns have no null values \n",
    "#this is out of 135 columns. \n",
    "#Quite many columns 70 of them, have more than 75% null values.\n",
    "\n",
    "\n",
    "nulls_percentage_grouped_counts = nulls_percentage_grouped.value_counts()\n",
    "nulls_percentage_grouped_counts.sort_index()"
   ]
  },
  {
   "cell_type": "code",
   "execution_count": 197,
   "metadata": {},
   "outputs": [
    {
     "data": {
      "text/plain": [
       "Text(0,0.5,'Number of Columns')"
      ]
     },
     "execution_count": 197,
     "metadata": {},
     "output_type": "execute_result"
    },
    {
     "data": {
      "image/png": "[encoded data removed]",
      "text/plain": [
       "<Figure size 432x288 with 1 Axes>"
      ]
     },
     "metadata": {},
     "output_type": "display_data"
    }
   ],
   "source": [
    "sns.barplot(nulls_percentage_grouped_counts.index,nulls_percentage_grouped_counts.values)\n",
    "plt.title('Checking Null Values')\n",
    "plt.xlabel('Percentage of Null Values')\n",
    "plt.ylabel('Number of Columns')"
   ]
  },
  {
   "cell_type": "code",
   "execution_count": 198,
   "metadata": {},
   "outputs": [
    {
     "name": "stdout",
     "output_type": "stream",
     "text": [
      "<class 'pandas.core.frame.DataFrame'>\n",
      "RangeIndex: 181691 entries, 0 to 181690\n",
      "Columns: 135 entries, eventid to related\n",
      "dtypes: float64(55), int64(22), object(58)\n",
      "memory usage: 187.1+ MB\n"
     ]
    }
   ],
   "source": [
    "#lets examine column values to get a sense of our data\n",
    "\n",
    "gt.info()"
   ]
  },
  {
   "cell_type": "code",
   "execution_count": 199,
   "metadata": {},
   "outputs": [],
   "source": [
    "#Integer Columns\n",
    "#I had also gone through the column descriptions from the Codebook \n",
    "#it can be downloaded from GTD database. It contains detailed descriptions of columns and their values.\n",
    "#Begining with integer columns \n",
    "#I had tried using 'iyear', 'country' and 'weaptype1' from these columns to build a model. \n",
    "#The idea was - using the year in which the incident occured,\n",
    "#along with the country, and weapon type and attack type used, can we predict which group may have been responsible.\n",
    "\n",
    "#For this, I had used KNN (K Nearest Neighbors). \n",
    "#It did seem to give good predictions. \n",
    "#But when I tried to encode the categorical columms like year, country, region etc,\n",
    "#the number of columns exploded, and KNN likely suffered from Curse of Dimensionality.\n",
    "#Running KNN became a drag. KNN worked fine till around 10k rows, but near around 100k rows, it struggled."
   ]
  },
  {
   "cell_type": "code",
   "execution_count": 200,
   "metadata": {},
   "outputs": [
    {
     "data": {
      "text/plain": [
       "Index(['eventid', 'iyear', 'imonth', 'iday', 'extended', 'country', 'region',\n",
       "       'vicinity', 'crit1', 'crit2', 'crit3', 'success', 'suicide',\n",
       "       'attacktype1', 'targtype1', 'individual', 'weaptype1', 'property',\n",
       "       'INT_LOG', 'INT_IDEO', 'INT_MISC', 'INT_ANY'],\n",
       "      dtype='object')"
      ]
     },
     "execution_count": 200,
     "metadata": {},
     "output_type": "execute_result"
    }
   ],
   "source": [
    "cols_int = gt.select_dtypes(include=['int64']).columns\n",
    "cols_int"
   ]
  },
  {
   "cell_type": "code",
   "execution_count": 201,
   "metadata": {},
   "outputs": [
    {
     "data": {
      "text/plain": [
       "Index(['latitude', 'longitude', 'specificity', 'doubtterr', 'alternative',\n",
       "       'multiple', 'attacktype2', 'attacktype3', 'targsubtype1', 'natlty1',\n",
       "       'targtype2', 'targsubtype2', 'natlty2', 'targtype3', 'targsubtype3',\n",
       "       'natlty3', 'guncertain1', 'guncertain2', 'guncertain3', 'nperps',\n",
       "       'nperpcap', 'claimed', 'claimmode', 'claim2', 'claimmode2', 'claim3',\n",
       "       'claimmode3', 'compclaim', 'weapsubtype1', 'weaptype2', 'weapsubtype2',\n",
       "       'weaptype3', 'weapsubtype3', 'weaptype4', 'weapsubtype4', 'nkill',\n",
       "       'nkillus', 'nkillter', 'nwound', 'nwoundus', 'nwoundte', 'propextent',\n",
       "       'propvalue', 'ishostkid', 'nhostkid', 'nhostkidus', 'nhours', 'ndays',\n",
       "       'ransom', 'ransomamt', 'ransomamtus', 'ransompaid', 'ransompaidus',\n",
       "       'hostkidoutcome', 'nreleased'],\n",
       "      dtype='object')"
      ]
     },
     "execution_count": 201,
     "metadata": {},
     "output_type": "execute_result"
    }
   ],
   "source": [
    "#Float Columns\n",
    "\n",
    "\n",
    "cols_float = gt.select_dtypes(include=['float64']).columns\n",
    "cols_float"
   ]
  },
  {
   "cell_type": "code",
   "execution_count": 202,
   "metadata": {},
   "outputs": [
    {
     "data": {
      "text/html": [
       "<div>\n",
       "<style scoped>\n",
       "    .dataframe tbody tr th:only-of-type {\n",
       "        vertical-align: middle;\n",
       "    }\n",
       "\n",
       "    .dataframe tbody tr th {\n",
       "        vertical-align: top;\n",
       "    }\n",
       "\n",
       "    .dataframe thead th {\n",
       "        text-align: right;\n",
       "    }\n",
       "</style>\n",
       "<table border=\"1\" class=\"dataframe\">\n",
       "  <thead>\n",
       "    <tr style=\"text-align: right;\">\n",
       "      <th></th>\n",
       "      <th>latitude</th>\n",
       "      <th>longitude</th>\n",
       "      <th>specificity</th>\n",
       "      <th>doubtterr</th>\n",
       "      <th>alternative</th>\n",
       "      <th>multiple</th>\n",
       "      <th>attacktype2</th>\n",
       "      <th>attacktype3</th>\n",
       "      <th>targsubtype1</th>\n",
       "      <th>natlty1</th>\n",
       "      <th>...</th>\n",
       "      <th>nhostkidus</th>\n",
       "      <th>nhours</th>\n",
       "      <th>ndays</th>\n",
       "      <th>ransom</th>\n",
       "      <th>ransomamt</th>\n",
       "      <th>ransomamtus</th>\n",
       "      <th>ransompaid</th>\n",
       "      <th>ransompaidus</th>\n",
       "      <th>hostkidoutcome</th>\n",
       "      <th>nreleased</th>\n",
       "    </tr>\n",
       "  </thead>\n",
       "  <tbody>\n",
       "    <tr>\n",
       "      <th>0</th>\n",
       "      <td>18.456792</td>\n",
       "      <td>-69.951164</td>\n",
       "      <td>1.0</td>\n",
       "      <td>0.0</td>\n",
       "      <td>NaN</td>\n",
       "      <td>0.0</td>\n",
       "      <td>NaN</td>\n",
       "      <td>NaN</td>\n",
       "      <td>68.0</td>\n",
       "      <td>58.0</td>\n",
       "      <td>...</td>\n",
       "      <td>NaN</td>\n",
       "      <td>NaN</td>\n",
       "      <td>NaN</td>\n",
       "      <td>0.0</td>\n",
       "      <td>NaN</td>\n",
       "      <td>NaN</td>\n",
       "      <td>NaN</td>\n",
       "      <td>NaN</td>\n",
       "      <td>NaN</td>\n",
       "      <td>NaN</td>\n",
       "    </tr>\n",
       "    <tr>\n",
       "      <th>1</th>\n",
       "      <td>19.371887</td>\n",
       "      <td>-99.086624</td>\n",
       "      <td>1.0</td>\n",
       "      <td>0.0</td>\n",
       "      <td>NaN</td>\n",
       "      <td>0.0</td>\n",
       "      <td>NaN</td>\n",
       "      <td>NaN</td>\n",
       "      <td>45.0</td>\n",
       "      <td>21.0</td>\n",
       "      <td>...</td>\n",
       "      <td>0.0</td>\n",
       "      <td>NaN</td>\n",
       "      <td>NaN</td>\n",
       "      <td>1.0</td>\n",
       "      <td>800000.0</td>\n",
       "      <td>NaN</td>\n",
       "      <td>NaN</td>\n",
       "      <td>NaN</td>\n",
       "      <td>NaN</td>\n",
       "      <td>NaN</td>\n",
       "    </tr>\n",
       "    <tr>\n",
       "      <th>2</th>\n",
       "      <td>15.478598</td>\n",
       "      <td>120.599741</td>\n",
       "      <td>4.0</td>\n",
       "      <td>0.0</td>\n",
       "      <td>NaN</td>\n",
       "      <td>0.0</td>\n",
       "      <td>NaN</td>\n",
       "      <td>NaN</td>\n",
       "      <td>54.0</td>\n",
       "      <td>217.0</td>\n",
       "      <td>...</td>\n",
       "      <td>NaN</td>\n",
       "      <td>NaN</td>\n",
       "      <td>NaN</td>\n",
       "      <td>0.0</td>\n",
       "      <td>NaN</td>\n",
       "      <td>NaN</td>\n",
       "      <td>NaN</td>\n",
       "      <td>NaN</td>\n",
       "      <td>NaN</td>\n",
       "      <td>NaN</td>\n",
       "    </tr>\n",
       "  </tbody>\n",
       "</table>\n",
       "<p>3 rows × 55 columns</p>\n",
       "</div>"
      ],
      "text/plain": [
       "    latitude   longitude  specificity  doubtterr  alternative  multiple  \\\n",
       "0  18.456792  -69.951164          1.0        0.0          NaN       0.0   \n",
       "1  19.371887  -99.086624          1.0        0.0          NaN       0.0   \n",
       "2  15.478598  120.599741          4.0        0.0          NaN       0.0   \n",
       "\n",
       "   attacktype2  attacktype3  targsubtype1  natlty1    ...      nhostkidus  \\\n",
       "0          NaN          NaN          68.0     58.0    ...             NaN   \n",
       "1          NaN          NaN          45.0     21.0    ...             0.0   \n",
       "2          NaN          NaN          54.0    217.0    ...             NaN   \n",
       "\n",
       "   nhours  ndays  ransom  ransomamt  ransomamtus  ransompaid  ransompaidus  \\\n",
       "0     NaN    NaN     0.0        NaN          NaN         NaN           NaN   \n",
       "1     NaN    NaN     1.0   800000.0          NaN         NaN           NaN   \n",
       "2     NaN    NaN     0.0        NaN          NaN         NaN           NaN   \n",
       "\n",
       "   hostkidoutcome  nreleased  \n",
       "0             NaN        NaN  \n",
       "1             NaN        NaN  \n",
       "2             NaN        NaN  \n",
       "\n",
       "[3 rows x 55 columns]"
      ]
     },
     "execution_count": 202,
     "metadata": {},
     "output_type": "execute_result"
    }
   ],
   "source": [
    "gt[cols_float].head(3)"
   ]
  },
  {
   "cell_type": "code",
   "execution_count": 203,
   "metadata": {},
   "outputs": [
    {
     "data": {
      "text/plain": [
       "Index(['approxdate', 'resolution', 'country_txt', 'region_txt', 'provstate',\n",
       "       'city', 'location', 'summary', 'alternative_txt', 'attacktype1_txt',\n",
       "       'attacktype2_txt', 'attacktype3_txt', 'targtype1_txt',\n",
       "       'targsubtype1_txt', 'corp1', 'target1', 'natlty1_txt', 'targtype2_txt',\n",
       "       'targsubtype2_txt', 'corp2', 'target2', 'natlty2_txt', 'targtype3_txt',\n",
       "       'targsubtype3_txt', 'corp3', 'target3', 'natlty3_txt', 'gname',\n",
       "       'gsubname', 'gname2', 'gsubname2', 'gname3', 'gsubname3', 'motive',\n",
       "       'claimmode_txt', 'claimmode2_txt', 'claimmode3_txt', 'weaptype1_txt',\n",
       "       'weapsubtype1_txt', 'weaptype2_txt', 'weapsubtype2_txt',\n",
       "       'weaptype3_txt', 'weapsubtype3_txt', 'weaptype4_txt',\n",
       "       'weapsubtype4_txt', 'weapdetail', 'propextent_txt', 'propcomment',\n",
       "       'divert', 'kidhijcountry', 'ransomnote', 'hostkidoutcome_txt',\n",
       "       'addnotes', 'scite1', 'scite2', 'scite3', 'dbsource', 'related'],\n",
       "      dtype='object')"
      ]
     },
     "execution_count": 203,
     "metadata": {},
     "output_type": "execute_result"
    }
   ],
   "source": [
    "#Texts Columns\n",
    "#Lastly, texts columns.\n",
    "\n",
    "#From these columns,\n",
    "#I had tried using 'country_txt', 'region_txt', 'attacktype1_txt', 'weaptype1_txt' etc. \n",
    "\n",
    "#'gname' is our Target Variable\n",
    "#gname is short for terrorist group name\n",
    "\n",
    "cols_object = gt.select_dtypes(include=['object']).columns\n",
    "cols_object"
   ]
  },
  {
   "cell_type": "code",
   "execution_count": 204,
   "metadata": {},
   "outputs": [
    {
     "data": {
      "text/html": [
       "<div>\n",
       "<style scoped>\n",
       "    .dataframe tbody tr th:only-of-type {\n",
       "        vertical-align: middle;\n",
       "    }\n",
       "\n",
       "    .dataframe tbody tr th {\n",
       "        vertical-align: top;\n",
       "    }\n",
       "\n",
       "    .dataframe thead th {\n",
       "        text-align: right;\n",
       "    }\n",
       "</style>\n",
       "<table border=\"1\" class=\"dataframe\">\n",
       "  <thead>\n",
       "    <tr style=\"text-align: right;\">\n",
       "      <th></th>\n",
       "      <th>approxdate</th>\n",
       "      <th>resolution</th>\n",
       "      <th>country_txt</th>\n",
       "      <th>region_txt</th>\n",
       "      <th>provstate</th>\n",
       "      <th>city</th>\n",
       "      <th>location</th>\n",
       "      <th>summary</th>\n",
       "      <th>alternative_txt</th>\n",
       "      <th>attacktype1_txt</th>\n",
       "      <th>...</th>\n",
       "      <th>divert</th>\n",
       "      <th>kidhijcountry</th>\n",
       "      <th>ransomnote</th>\n",
       "      <th>hostkidoutcome_txt</th>\n",
       "      <th>addnotes</th>\n",
       "      <th>scite1</th>\n",
       "      <th>scite2</th>\n",
       "      <th>scite3</th>\n",
       "      <th>dbsource</th>\n",
       "      <th>related</th>\n",
       "    </tr>\n",
       "  </thead>\n",
       "  <tbody>\n",
       "    <tr>\n",
       "      <th>0</th>\n",
       "      <td>NaN</td>\n",
       "      <td>NaN</td>\n",
       "      <td>Dominican Republic</td>\n",
       "      <td>Central America &amp; Caribbean</td>\n",
       "      <td>NaN</td>\n",
       "      <td>Santo Domingo</td>\n",
       "      <td>NaN</td>\n",
       "      <td>NaN</td>\n",
       "      <td>NaN</td>\n",
       "      <td>Assassination</td>\n",
       "      <td>...</td>\n",
       "      <td>NaN</td>\n",
       "      <td>NaN</td>\n",
       "      <td>NaN</td>\n",
       "      <td>NaN</td>\n",
       "      <td>NaN</td>\n",
       "      <td>NaN</td>\n",
       "      <td>NaN</td>\n",
       "      <td>NaN</td>\n",
       "      <td>PGIS</td>\n",
       "      <td>NaN</td>\n",
       "    </tr>\n",
       "    <tr>\n",
       "      <th>1</th>\n",
       "      <td>NaN</td>\n",
       "      <td>NaN</td>\n",
       "      <td>Mexico</td>\n",
       "      <td>North America</td>\n",
       "      <td>Federal</td>\n",
       "      <td>Mexico city</td>\n",
       "      <td>NaN</td>\n",
       "      <td>NaN</td>\n",
       "      <td>NaN</td>\n",
       "      <td>Hostage Taking (Kidnapping)</td>\n",
       "      <td>...</td>\n",
       "      <td>NaN</td>\n",
       "      <td>Mexico</td>\n",
       "      <td>NaN</td>\n",
       "      <td>NaN</td>\n",
       "      <td>NaN</td>\n",
       "      <td>NaN</td>\n",
       "      <td>NaN</td>\n",
       "      <td>NaN</td>\n",
       "      <td>PGIS</td>\n",
       "      <td>NaN</td>\n",
       "    </tr>\n",
       "    <tr>\n",
       "      <th>2</th>\n",
       "      <td>NaN</td>\n",
       "      <td>NaN</td>\n",
       "      <td>Philippines</td>\n",
       "      <td>Southeast Asia</td>\n",
       "      <td>Tarlac</td>\n",
       "      <td>Unknown</td>\n",
       "      <td>NaN</td>\n",
       "      <td>NaN</td>\n",
       "      <td>NaN</td>\n",
       "      <td>Assassination</td>\n",
       "      <td>...</td>\n",
       "      <td>NaN</td>\n",
       "      <td>NaN</td>\n",
       "      <td>NaN</td>\n",
       "      <td>NaN</td>\n",
       "      <td>NaN</td>\n",
       "      <td>NaN</td>\n",
       "      <td>NaN</td>\n",
       "      <td>NaN</td>\n",
       "      <td>PGIS</td>\n",
       "      <td>NaN</td>\n",
       "    </tr>\n",
       "    <tr>\n",
       "      <th>3</th>\n",
       "      <td>NaN</td>\n",
       "      <td>NaN</td>\n",
       "      <td>Greece</td>\n",
       "      <td>Western Europe</td>\n",
       "      <td>Attica</td>\n",
       "      <td>Athens</td>\n",
       "      <td>NaN</td>\n",
       "      <td>NaN</td>\n",
       "      <td>NaN</td>\n",
       "      <td>Bombing/Explosion</td>\n",
       "      <td>...</td>\n",
       "      <td>NaN</td>\n",
       "      <td>NaN</td>\n",
       "      <td>NaN</td>\n",
       "      <td>NaN</td>\n",
       "      <td>NaN</td>\n",
       "      <td>NaN</td>\n",
       "      <td>NaN</td>\n",
       "      <td>NaN</td>\n",
       "      <td>PGIS</td>\n",
       "      <td>NaN</td>\n",
       "    </tr>\n",
       "    <tr>\n",
       "      <th>4</th>\n",
       "      <td>NaN</td>\n",
       "      <td>NaN</td>\n",
       "      <td>Japan</td>\n",
       "      <td>East Asia</td>\n",
       "      <td>Fukouka</td>\n",
       "      <td>Fukouka</td>\n",
       "      <td>NaN</td>\n",
       "      <td>NaN</td>\n",
       "      <td>NaN</td>\n",
       "      <td>Facility/Infrastructure Attack</td>\n",
       "      <td>...</td>\n",
       "      <td>NaN</td>\n",
       "      <td>NaN</td>\n",
       "      <td>NaN</td>\n",
       "      <td>NaN</td>\n",
       "      <td>NaN</td>\n",
       "      <td>NaN</td>\n",
       "      <td>NaN</td>\n",
       "      <td>NaN</td>\n",
       "      <td>PGIS</td>\n",
       "      <td>NaN</td>\n",
       "    </tr>\n",
       "  </tbody>\n",
       "</table>\n",
       "<p>5 rows × 58 columns</p>\n",
       "</div>"
      ],
      "text/plain": [
       "  approxdate resolution         country_txt                   region_txt  \\\n",
       "0        NaN        NaN  Dominican Republic  Central America & Caribbean   \n",
       "1        NaN        NaN              Mexico                North America   \n",
       "2        NaN        NaN         Philippines               Southeast Asia   \n",
       "3        NaN        NaN              Greece               Western Europe   \n",
       "4        NaN        NaN               Japan                    East Asia   \n",
       "\n",
       "  provstate           city location summary alternative_txt  \\\n",
       "0       NaN  Santo Domingo      NaN     NaN             NaN   \n",
       "1   Federal    Mexico city      NaN     NaN             NaN   \n",
       "2    Tarlac        Unknown      NaN     NaN             NaN   \n",
       "3    Attica         Athens      NaN     NaN             NaN   \n",
       "4   Fukouka        Fukouka      NaN     NaN             NaN   \n",
       "\n",
       "                  attacktype1_txt   ...   divert kidhijcountry ransomnote  \\\n",
       "0                   Assassination   ...      NaN           NaN        NaN   \n",
       "1     Hostage Taking (Kidnapping)   ...      NaN        Mexico        NaN   \n",
       "2                   Assassination   ...      NaN           NaN        NaN   \n",
       "3               Bombing/Explosion   ...      NaN           NaN        NaN   \n",
       "4  Facility/Infrastructure Attack   ...      NaN           NaN        NaN   \n",
       "\n",
       "  hostkidoutcome_txt addnotes scite1 scite2 scite3 dbsource related  \n",
       "0                NaN      NaN    NaN    NaN    NaN     PGIS     NaN  \n",
       "1                NaN      NaN    NaN    NaN    NaN     PGIS     NaN  \n",
       "2                NaN      NaN    NaN    NaN    NaN     PGIS     NaN  \n",
       "3                NaN      NaN    NaN    NaN    NaN     PGIS     NaN  \n",
       "4                NaN      NaN    NaN    NaN    NaN     PGIS     NaN  \n",
       "\n",
       "[5 rows x 58 columns]"
      ]
     },
     "execution_count": 204,
     "metadata": {},
     "output_type": "execute_result"
    }
   ],
   "source": [
    "gt[cols_object].head()"
   ]
  },
  {
   "cell_type": "code",
   "execution_count": 205,
   "metadata": {},
   "outputs": [
    {
     "data": {
      "text/plain": [
       "0"
      ]
     },
     "execution_count": 205,
     "metadata": {},
     "output_type": "execute_result"
    }
   ],
   "source": [
    "#examining our target variable Gname\n",
    "\n",
    "#check for null values\n",
    "\n",
    "gt.gname.isnull().sum()  #no null values"
   ]
  },
  {
   "cell_type": "code",
   "execution_count": 206,
   "metadata": {},
   "outputs": [
    {
     "data": {
      "text/plain": [
       "Unknown                                             82782\n",
       "Taliban                                              7478\n",
       "Islamic State of Iraq and the Levant (ISIL)          5613\n",
       "Shining Path (SL)                                    4555\n",
       "Farabundo Marti National Liberation Front (FMLN)     3351\n",
       "Al-Shabaab                                           3288\n",
       "New People's Army (NPA)                              2772\n",
       "Irish Republican Army (IRA)                          2671\n",
       "Revolutionary Armed Forces of Colombia (FARC)        2487\n",
       "Boko Haram                                           2418\n",
       "Name: gname, dtype: int64"
      ]
     },
     "execution_count": 206,
     "metadata": {},
     "output_type": "execute_result"
    }
   ],
   "source": [
    "#Group names are either Unknown or the names of the groups responsible for the incident are recorded.\n",
    "#There are around 78,000 cases for which groups are unknown. Our aim will be to predict the values of Unknown \n",
    "\n",
    "grp_counts = gt.gname.value_counts()\n",
    "grp_counts.head(10)"
   ]
  },
  {
   "cell_type": "code",
   "execution_count": 207,
   "metadata": {},
   "outputs": [
    {
     "name": "stdout",
     "output_type": "stream",
     "text": [
      "Group counts known:  98909\n",
      "Group counts unknown:  82782\n"
     ]
    }
   ],
   "source": [
    "# close to 100k groups are known. We have around 180k instances, thus majority of groups are known\n",
    "\n",
    "\n",
    "grp_counts_known = grp_counts.loc[grp_counts.index != 'Unknown'].sum()\n",
    "print('Group counts known: ' ,grp_counts_known)\n",
    "\n",
    "grp_counts_unknown = grp_counts[0]\n",
    "print('Group counts unknown: ' ,grp_counts_unknown)"
   ]
  },
  {
   "cell_type": "code",
   "execution_count": 208,
   "metadata": {},
   "outputs": [
    {
     "data": {
      "text/plain": [
       "Text(0,0.5,'Percentage of Attacks')"
      ]
     },
     "execution_count": 208,
     "metadata": {},
     "output_type": "execute_result"
    },
    {
     "data": {
      "image/png": "[encoded data removed]",
      "text/plain": [
       "<Figure size 432x288 with 1 Axes>"
      ]
     },
     "metadata": {},
     "output_type": "display_data"
    }
   ],
   "source": [
    "#visualize this breakdown\n",
    "\n",
    "sns.barplot(['Groups Known','Groups Unknown'],100 * np.array([grp_counts_known, grp_counts_unknown]) / row_count)\n",
    "plt.ylabel('Percentage of Attacks')"
   ]
  },
  {
   "cell_type": "code",
   "execution_count": 209,
   "metadata": {},
   "outputs": [
    {
     "data": {
      "text/plain": [
       "(3537,)"
      ]
     },
     "execution_count": 209,
     "metadata": {},
     "output_type": "execute_result"
    }
   ],
   "source": [
    "#Most Active Groups\n",
    "\n",
    "#total of 3537 groups. We will remove one which is unknown\n",
    "\n",
    "\n",
    "grp_counts.shape"
   ]
  },
  {
   "cell_type": "code",
   "execution_count": 210,
   "metadata": {},
   "outputs": [
    {
     "data": {
      "text/plain": [
       "Taliban                                             7478\n",
       "Islamic State of Iraq and the Levant (ISIL)         5613\n",
       "Shining Path (SL)                                   4555\n",
       "Farabundo Marti National Liberation Front (FMLN)    3351\n",
       "Al-Shabaab                                          3288\n",
       "New People's Army (NPA)                             2772\n",
       "Irish Republican Army (IRA)                         2671\n",
       "Revolutionary Armed Forces of Colombia (FARC)       2487\n",
       "Boko Haram                                          2418\n",
       "Kurdistan Workers' Party (PKK)                      2310\n",
       "Name: gname, dtype: int64"
      ]
     },
     "execution_count": 210,
     "metadata": {},
     "output_type": "execute_result"
    }
   ],
   "source": [
    "#top 10 groups list\n",
    "top10 = grp_counts[1:11]\n",
    "top10"
   ]
  },
  {
   "cell_type": "code",
   "execution_count": 211,
   "metadata": {},
   "outputs": [
    {
     "data": {
      "text/plain": [
       "Text(0.5,1,'10 Most Active Groups\\n1970-2018')"
      ]
     },
     "execution_count": 211,
     "metadata": {},
     "output_type": "execute_result"
    },
    {
     "data": {
      "image/png": "[encoded data removed]",
      "text/plain": [
       "<Figure size 720x360 with 1 Axes>"
      ]
     },
     "metadata": {},
     "output_type": "display_data"
    }
   ],
   "source": [
    "plt.subplots(figsize=(10, 5))\n",
    "sns.barplot(top10.values, top10.index, palette='inferno')\n",
    "plt.xlabel('Number of Attacks')\n",
    "plt.title('10 Most Active Groups\\n1970-2018', fontsize=10)"
   ]
  },
  {
   "cell_type": "code",
   "execution_count": 212,
   "metadata": {},
   "outputs": [
    {
     "data": {
      "text/plain": [
       "(array([ 0,  1,  2,  3,  4,  5,  6,  7,  8,  9, 10, 11, 12, 13, 14, 15, 16,\n",
       "        17, 18, 19, 20, 21, 22, 23, 24, 25, 26, 27, 28, 29, 30, 31, 32, 33,\n",
       "        34, 35, 36, 37, 38, 39, 40, 41, 42, 43, 44, 45, 46]),\n",
       " <a list of 47 Text xticklabel objects>)"
      ]
     },
     "execution_count": 212,
     "metadata": {},
     "output_type": "execute_result"
    },
    {
     "data": {
      "image/png": "[encoded data removed]",
      "text/plain": [
       "<Figure size 1080x432 with 1 Axes>"
      ]
     },
     "metadata": {},
     "output_type": "display_data"
    }
   ],
   "source": [
    "plt.figure(figsize=(15,6))\n",
    "#plt.plot(years_in_database,attacks_per_year,,color='olive', linestyle ='-',marker='.',linewidth = '5')\n",
    "sns.countplot('iyear',data=gt,palette='inferno')\n",
    "\n",
    "\n",
    "plt.xlabel('Years',fontsize = 15,weight   = 'bold',color = 'black')\n",
    "plt.ylabel('Number of Attacks',fontsize = 15,weight   = 'bold',color = 'black')\n",
    "\n",
    "plt.title('Attacks over years',fontsize = 20,weight   = 'extra bold', color    = 'black')\n",
    "plt.yticks(rotation = 0, weight   = 'bold', fontsize = 10, color   = 'grey')\n",
    "plt.xticks(weight   = 'bold', fontsize = 10,color = 'grey',rotation=90)\n",
    "\n"
   ]
  },
  {
   "cell_type": "code",
   "execution_count": 213,
   "metadata": {},
   "outputs": [
    {
     "data": {
      "text/plain": [
       "Text(0.5,1,'10 Most Volatile Years\\n1970-2018')"
      ]
     },
     "execution_count": 213,
     "metadata": {},
     "output_type": "execute_result"
    },
    {
     "data": {
      "image/png": "[encoded data removed]",
      "text/plain": [
       "<Figure size 432x288 with 1 Axes>"
      ]
     },
     "metadata": {},
     "output_type": "display_data"
    }
   ],
   "source": [
    "#top 10 years with highest terrorist activity\n",
    "year_attacks = gt.iyear.value_counts()\n",
    "top10_years = year_attacks.sort_values(ascending=False).head(10)\n",
    "\n",
    "sns.barplot(top10_years.index, top10_years.values,palette='inferno')\n",
    "plt.xticks(rotation=90)\n",
    "plt.ylabel('Number of Attacks')\n",
    "plt.xlabel('Years')\n",
    "plt.title('10 Most Volatile Years\\n1970-2018', fontsize=12)"
   ]
  },
  {
   "cell_type": "code",
   "execution_count": 214,
   "metadata": {},
   "outputs": [
    {
     "data": {
      "text/plain": [
       "Text(0.5,1,'Terrorist Attacks by Decades\\n1970-2018')"
      ]
     },
     "execution_count": 214,
     "metadata": {},
     "output_type": "execute_result"
    },
    {
     "data": {
      "image/png": "[encoded data removed]",
      "text/plain": [
       "<Figure size 432x288 with 1 Axes>"
      ]
     },
     "metadata": {},
     "output_type": "display_data"
    }
   ],
   "source": [
    "#bin years by decades\n",
    "bins = (1969, 1979, 1989, 1999, 2009, 2018)\n",
    "labels = ['1970s', '1980s', '1990s', '2000s', '2010s']\n",
    "\n",
    "year_decades = pd.cut(gt.iyear, bins, labels=labels)\n",
    "\n",
    "year_decades_attacks = year_decades.value_counts()\n",
    "\n",
    "\n",
    "sns.barplot(year_decades_attacks.index, year_decades_attacks.values, palette='inferno')\n",
    "plt.xlabel('Decades')\n",
    "plt.ylabel('Number of Attacks')\n",
    "plt.title('Terrorist Attacks by Decades\\n1970-2018', fontsize=12)\n",
    "\n",
    "#a huge surge in terrorist incidents in the last decade can be observed."
   ]
  },
  {
   "cell_type": "code",
   "execution_count": 215,
   "metadata": {},
   "outputs": [
    {
     "data": {
      "text/plain": [
       "Iraq              24636\n",
       "Pakistan          14368\n",
       "Afghanistan       12731\n",
       "India             11960\n",
       "Colombia           8306\n",
       "Philippines        6908\n",
       "Peru               6096\n",
       "El Salvador        5320\n",
       "United Kingdom     5235\n",
       "Turkey             4292\n",
       "Name: country_txt, dtype: int64"
      ]
     },
     "execution_count": 215,
     "metadata": {},
     "output_type": "execute_result"
    }
   ],
   "source": [
    "#lets look at the top countries affected by terrorism\n",
    "\n",
    "country_attacks = gt.country_txt.value_counts()\n",
    "top10_countries = country_attacks.head(10)\n",
    "top10_countries"
   ]
  },
  {
   "cell_type": "code",
   "execution_count": 216,
   "metadata": {},
   "outputs": [
    {
     "data": {
      "text/plain": [
       "Text(0.5,1,'10 Countries Most Affected by Terrorism\\n1970-2018')"
      ]
     },
     "execution_count": 216,
     "metadata": {},
     "output_type": "execute_result"
    },
    {
     "data": {
      "image/png": "[encoded data removed]",
      "text/plain": [
       "<Figure size 432x288 with 1 Axes>"
      ]
     },
     "metadata": {},
     "output_type": "display_data"
    }
   ],
   "source": [
    "sns.barplot(top10_countries.index, top10_countries.values,palette='inferno')\n",
    "plt.xticks(rotation=90, fontsize=11)\n",
    "plt.xlabel('Countries', labelpad=10, fontsize=13)\n",
    "plt.ylabel('Number of Attacks', fontsize=13)\n",
    "plt.title('10 Countries Most Affected by Terrorism\\n1970-2018', fontsize=13)"
   ]
  },
  {
   "cell_type": "markdown",
   "metadata": {},
   "source": [
    "# Model building\n"
   ]
  },
  {
   "cell_type": "code",
   "execution_count": 217,
   "metadata": {},
   "outputs": [
    {
     "data": {
      "text/plain": [
       "(181691, 135)"
      ]
     },
     "execution_count": 217,
     "metadata": {},
     "output_type": "execute_result"
    }
   ],
   "source": [
    "gt.shape\n",
    "\n",
    "#We have 180,000 rows and 135 columns to work with."
   ]
  },
  {
   "cell_type": "code",
   "execution_count": 218,
   "metadata": {},
   "outputs": [],
   "source": [
    "#Our target column will be gname.\n",
    "#This is the terrorist group name.\n",
    "\n",
    "#After experimenting with a few features\n",
    "#I had tried with year, country, region, attack type used, weapon type used and not getting satisfactory result\n",
    "#(I tried with KNN and Logistic Regression)\n",
    "\n",
    "#The summary column(the description of the terrorist incident or attack) \n",
    "#is rich in information. It contains dates, years, months; and sometimes cities,\n",
    "#towns and countries where the incident occurred. \n",
    "#It also contained other information that would be difficult to capture by numbers alone.\n",
    "\n",
    "#It seemed to be a good predictor for idenitfing the groups.\n",
    "\n",
    "#I created a dataframe called summary_gname that has only summary and gname columns"
   ]
  },
  {
   "cell_type": "code",
   "execution_count": 219,
   "metadata": {},
   "outputs": [
    {
     "data": {
      "text/html": [
       "<div>\n",
       "<style scoped>\n",
       "    .dataframe tbody tr th:only-of-type {\n",
       "        vertical-align: middle;\n",
       "    }\n",
       "\n",
       "    .dataframe tbody tr th {\n",
       "        vertical-align: top;\n",
       "    }\n",
       "\n",
       "    .dataframe thead th {\n",
       "        text-align: right;\n",
       "    }\n",
       "</style>\n",
       "<table border=\"1\" class=\"dataframe\">\n",
       "  <thead>\n",
       "    <tr style=\"text-align: right;\">\n",
       "      <th></th>\n",
       "      <th>summary</th>\n",
       "      <th>gname</th>\n",
       "    </tr>\n",
       "  </thead>\n",
       "  <tbody>\n",
       "    <tr>\n",
       "      <th>181686</th>\n",
       "      <td>12/31/2017: Assailants opened fire on a Somali...</td>\n",
       "      <td>Al-Shabaab</td>\n",
       "    </tr>\n",
       "    <tr>\n",
       "      <th>181687</th>\n",
       "      <td>12/31/2017: Assailants launched mortars at the...</td>\n",
       "      <td>Muslim extremists</td>\n",
       "    </tr>\n",
       "    <tr>\n",
       "      <th>181688</th>\n",
       "      <td>12/31/2017: Assailants set fire to houses in K...</td>\n",
       "      <td>Bangsamoro Islamic Freedom Movement (BIFM)</td>\n",
       "    </tr>\n",
       "    <tr>\n",
       "      <th>181689</th>\n",
       "      <td>12/31/2017: Assailants threw a grenade at a Fo...</td>\n",
       "      <td>Unknown</td>\n",
       "    </tr>\n",
       "    <tr>\n",
       "      <th>181690</th>\n",
       "      <td>12/31/2017: An explosive device was discovered...</td>\n",
       "      <td>Unknown</td>\n",
       "    </tr>\n",
       "  </tbody>\n",
       "</table>\n",
       "</div>"
      ],
      "text/plain": [
       "                                                  summary  \\\n",
       "181686  12/31/2017: Assailants opened fire on a Somali...   \n",
       "181687  12/31/2017: Assailants launched mortars at the...   \n",
       "181688  12/31/2017: Assailants set fire to houses in K...   \n",
       "181689  12/31/2017: Assailants threw a grenade at a Fo...   \n",
       "181690  12/31/2017: An explosive device was discovered...   \n",
       "\n",
       "                                             gname  \n",
       "181686                                  Al-Shabaab  \n",
       "181687                           Muslim extremists  \n",
       "181688  Bangsamoro Islamic Freedom Movement (BIFM)  \n",
       "181689                                     Unknown  \n",
       "181690                                     Unknown  "
      ]
     },
     "execution_count": 219,
     "metadata": {},
     "output_type": "execute_result"
    }
   ],
   "source": [
    "summary_gname = gt.loc[:, ['summary','gname']]\n",
    "summary_gname.tail()"
   ]
  },
  {
   "cell_type": "code",
   "execution_count": 220,
   "metadata": {},
   "outputs": [
    {
     "data": {
      "text/plain": [
       "summary    66129\n",
       "gname          0\n",
       "dtype: int64"
      ]
     },
     "execution_count": 220,
     "metadata": {},
     "output_type": "execute_result"
    }
   ],
   "source": [
    "#As we seen before, gname column has no null values. \n",
    "#But summary has some null values. Around 60,000 of them. \n",
    "#So from a total available of 180,000, if we let go of the 66,000 we will still have more than 100,000 to build our model.\n",
    "\n",
    "#We will end up dropping more rows later because of the Unknown groups.\n",
    "\n",
    "summary_gname.isnull().sum()"
   ]
  },
  {
   "cell_type": "code",
   "execution_count": 221,
   "metadata": {},
   "outputs": [
    {
     "data": {
      "text/plain": [
       "(3537,)"
      ]
     },
     "execution_count": 221,
     "metadata": {},
     "output_type": "execute_result"
    }
   ],
   "source": [
    "summary_gname.gname.value_counts().shape #total number of groups = 3537"
   ]
  },
  {
   "cell_type": "code",
   "execution_count": 222,
   "metadata": {},
   "outputs": [
    {
     "data": {
      "text/html": [
       "<div>\n",
       "<style scoped>\n",
       "    .dataframe tbody tr th:only-of-type {\n",
       "        vertical-align: middle;\n",
       "    }\n",
       "\n",
       "    .dataframe tbody tr th {\n",
       "        vertical-align: top;\n",
       "    }\n",
       "\n",
       "    .dataframe thead th {\n",
       "        text-align: right;\n",
       "    }\n",
       "</style>\n",
       "<table border=\"1\" class=\"dataframe\">\n",
       "  <thead>\n",
       "    <tr style=\"text-align: right;\">\n",
       "      <th></th>\n",
       "      <th>summary</th>\n",
       "      <th>gname</th>\n",
       "    </tr>\n",
       "  </thead>\n",
       "  <tbody>\n",
       "    <tr>\n",
       "      <th>5</th>\n",
       "      <td>1/1/1970: Unknown African American assailants ...</td>\n",
       "      <td>Black Nationalists</td>\n",
       "    </tr>\n",
       "    <tr>\n",
       "      <th>7</th>\n",
       "      <td>1/2/1970: Unknown perpetrators detonated explo...</td>\n",
       "      <td>Unknown</td>\n",
       "    </tr>\n",
       "    <tr>\n",
       "      <th>8</th>\n",
       "      <td>1/2/1970: Karl Armstrong, a member of the New ...</td>\n",
       "      <td>New Year's Gang</td>\n",
       "    </tr>\n",
       "    <tr>\n",
       "      <th>9</th>\n",
       "      <td>1/3/1970: Karl Armstrong, a member of the New ...</td>\n",
       "      <td>New Year's Gang</td>\n",
       "    </tr>\n",
       "    <tr>\n",
       "      <th>11</th>\n",
       "      <td>1/6/1970: Unknown perpetrators threw a Molotov...</td>\n",
       "      <td>Left-Wing Militants</td>\n",
       "    </tr>\n",
       "  </tbody>\n",
       "</table>\n",
       "</div>"
      ],
      "text/plain": [
       "                                              summary                gname\n",
       "5   1/1/1970: Unknown African American assailants ...   Black Nationalists\n",
       "7   1/2/1970: Unknown perpetrators detonated explo...              Unknown\n",
       "8   1/2/1970: Karl Armstrong, a member of the New ...      New Year's Gang\n",
       "9   1/3/1970: Karl Armstrong, a member of the New ...      New Year's Gang\n",
       "11  1/6/1970: Unknown perpetrators threw a Molotov...  Left-Wing Militants"
      ]
     },
     "execution_count": 222,
     "metadata": {},
     "output_type": "execute_result"
    }
   ],
   "source": [
    "#drop all null values of summary column so that we have good data to work with\n",
    "\n",
    "summary_gname.dropna(inplace=True)\n",
    "summary_gname.head()"
   ]
  },
  {
   "cell_type": "code",
   "execution_count": 223,
   "metadata": {},
   "outputs": [
    {
     "data": {
      "text/plain": [
       "(115562, 2)"
      ]
     },
     "execution_count": 223,
     "metadata": {},
     "output_type": "execute_result"
    }
   ],
   "source": [
    "summary_gname.shape #this is how our data looks like now"
   ]
  },
  {
   "cell_type": "code",
   "execution_count": 224,
   "metadata": {},
   "outputs": [],
   "source": [
    "#Separating Unknown and Known Groups\n",
    "#Around 60,000 cases have Unknown groups. \n",
    "#These are ones we will be predicting the terrorist group"
   ]
  },
  {
   "cell_type": "code",
   "execution_count": 225,
   "metadata": {},
   "outputs": [
    {
     "data": {
      "text/plain": [
       "59633"
      ]
     },
     "execution_count": 225,
     "metadata": {},
     "output_type": "execute_result"
    }
   ],
   "source": [
    "(summary_gname.gname == 'Unknown').sum()"
   ]
  },
  {
   "cell_type": "code",
   "execution_count": 226,
   "metadata": {},
   "outputs": [
    {
     "data": {
      "text/html": [
       "<div>\n",
       "<style scoped>\n",
       "    .dataframe tbody tr th:only-of-type {\n",
       "        vertical-align: middle;\n",
       "    }\n",
       "\n",
       "    .dataframe tbody tr th {\n",
       "        vertical-align: top;\n",
       "    }\n",
       "\n",
       "    .dataframe thead th {\n",
       "        text-align: right;\n",
       "    }\n",
       "</style>\n",
       "<table border=\"1\" class=\"dataframe\">\n",
       "  <thead>\n",
       "    <tr style=\"text-align: right;\">\n",
       "      <th></th>\n",
       "      <th>summary</th>\n",
       "      <th>gname</th>\n",
       "    </tr>\n",
       "  </thead>\n",
       "  <tbody>\n",
       "    <tr>\n",
       "      <th>7</th>\n",
       "      <td>1/2/1970: Unknown perpetrators detonated explo...</td>\n",
       "      <td>Unknown</td>\n",
       "    </tr>\n",
       "    <tr>\n",
       "      <th>40</th>\n",
       "      <td>1/31/1970: Unknown perpetrators bombed the Pol...</td>\n",
       "      <td>Unknown</td>\n",
       "    </tr>\n",
       "    <tr>\n",
       "      <th>43</th>\n",
       "      <td>2/2/1970: An incendiary device was discovered ...</td>\n",
       "      <td>Unknown</td>\n",
       "    </tr>\n",
       "    <tr>\n",
       "      <th>44</th>\n",
       "      <td>2/3/1970: In a series of related attacks, an i...</td>\n",
       "      <td>Unknown</td>\n",
       "    </tr>\n",
       "    <tr>\n",
       "      <th>45</th>\n",
       "      <td>2/3/1970: In a series of related attacks, an i...</td>\n",
       "      <td>Unknown</td>\n",
       "    </tr>\n",
       "  </tbody>\n",
       "</table>\n",
       "</div>"
      ],
      "text/plain": [
       "                                              summary    gname\n",
       "7   1/2/1970: Unknown perpetrators detonated explo...  Unknown\n",
       "40  1/31/1970: Unknown perpetrators bombed the Pol...  Unknown\n",
       "43  2/2/1970: An incendiary device was discovered ...  Unknown\n",
       "44  2/3/1970: In a series of related attacks, an i...  Unknown\n",
       "45  2/3/1970: In a series of related attacks, an i...  Unknown"
      ]
     },
     "execution_count": 226,
     "metadata": {},
     "output_type": "execute_result"
    }
   ],
   "source": [
    "unknown_grps = summary_gname.loc[summary_gname.gname == 'Unknown'].copy()\n",
    "unknown_grps.head()  #storing them separately"
   ]
  },
  {
   "cell_type": "code",
   "execution_count": 227,
   "metadata": {},
   "outputs": [
    {
     "data": {
      "text/html": [
       "<div>\n",
       "<style scoped>\n",
       "    .dataframe tbody tr th:only-of-type {\n",
       "        vertical-align: middle;\n",
       "    }\n",
       "\n",
       "    .dataframe tbody tr th {\n",
       "        vertical-align: top;\n",
       "    }\n",
       "\n",
       "    .dataframe thead th {\n",
       "        text-align: right;\n",
       "    }\n",
       "</style>\n",
       "<table border=\"1\" class=\"dataframe\">\n",
       "  <thead>\n",
       "    <tr style=\"text-align: right;\">\n",
       "      <th></th>\n",
       "      <th>summary</th>\n",
       "      <th>gname</th>\n",
       "    </tr>\n",
       "  </thead>\n",
       "  <tbody>\n",
       "    <tr>\n",
       "      <th>5</th>\n",
       "      <td>1/1/1970: Unknown African American assailants ...</td>\n",
       "      <td>Black Nationalists</td>\n",
       "    </tr>\n",
       "    <tr>\n",
       "      <th>8</th>\n",
       "      <td>1/2/1970: Karl Armstrong, a member of the New ...</td>\n",
       "      <td>New Year's Gang</td>\n",
       "    </tr>\n",
       "    <tr>\n",
       "      <th>9</th>\n",
       "      <td>1/3/1970: Karl Armstrong, a member of the New ...</td>\n",
       "      <td>New Year's Gang</td>\n",
       "    </tr>\n",
       "    <tr>\n",
       "      <th>11</th>\n",
       "      <td>1/6/1970: Unknown perpetrators threw a Molotov...</td>\n",
       "      <td>Left-Wing Militants</td>\n",
       "    </tr>\n",
       "    <tr>\n",
       "      <th>13</th>\n",
       "      <td>1/9/1970: Unknown perpetrators set off a fireb...</td>\n",
       "      <td>Left-Wing Militants</td>\n",
       "    </tr>\n",
       "  </tbody>\n",
       "</table>\n",
       "</div>"
      ],
      "text/plain": [
       "                                              summary                gname\n",
       "5   1/1/1970: Unknown African American assailants ...   Black Nationalists\n",
       "8   1/2/1970: Karl Armstrong, a member of the New ...      New Year's Gang\n",
       "9   1/3/1970: Karl Armstrong, a member of the New ...      New Year's Gang\n",
       "11  1/6/1970: Unknown perpetrators threw a Molotov...  Left-Wing Militants\n",
       "13  1/9/1970: Unknown perpetrators set off a fireb...  Left-Wing Militants"
      ]
     },
     "execution_count": 227,
     "metadata": {},
     "output_type": "execute_result"
    }
   ],
   "source": [
    "known_grps = summary_gname.loc[summary_gname.gname != 'Unknown'].copy()\n",
    "known_grps.head()  #same process for the known groups"
   ]
  },
  {
   "cell_type": "code",
   "execution_count": 228,
   "metadata": {},
   "outputs": [
    {
     "data": {
      "text/plain": [
       "(55929, 2)"
      ]
     },
     "execution_count": 228,
     "metadata": {},
     "output_type": "execute_result"
    }
   ],
   "source": [
    "known_grps.shape #slightly less than unknown groups"
   ]
  },
  {
   "cell_type": "code",
   "execution_count": 229,
   "metadata": {},
   "outputs": [
    {
     "data": {
      "text/plain": [
       "'2/23/1970: In a series of related attacks, unknown perpetrators bombed four separate power transmission poles in the Dakota City and Sioux City areas in Nebraska, United States.  There were no casualties and none of the dynamite blasts broke off any of the poles.   These attacks were one of many instances of violence in South Sioux City during the Iowa Beef Packers strike.'"
      ]
     },
     "execution_count": 229,
     "metadata": {},
     "output_type": "execute_result"
    }
   ],
   "source": [
    "#examining a few Samples of Summary Column\n",
    "#Looking at few samples of summary column. We can observe the information stored in this columns\n",
    "#It has dates, group names, target names, countries, cities, property damages, devices used, casualties etc.\n",
    "\n",
    "known_grps.iloc[58,0]"
   ]
  },
  {
   "cell_type": "code",
   "execution_count": 230,
   "metadata": {},
   "outputs": [
    {
     "data": {
      "text/plain": [
       "'03/19/1991: Members of the Liberation Tigers of Tamil Eelam (LTTE) attacked an army camp in Silavathurai, Sri Lanka.   The attack involved mortar bombs, small arms fire and grenades and it continued for three successive nights.  Five soldiers were killed.'"
      ]
     },
     "execution_count": 230,
     "metadata": {},
     "output_type": "execute_result"
    }
   ],
   "source": [
    "known_grps.iloc[1098,0]"
   ]
  },
  {
   "cell_type": "code",
   "execution_count": 231,
   "metadata": {},
   "outputs": [
    {
     "data": {
      "text/plain": [
       "Taliban                                           7474\n",
       "Islamic State of Iraq and the Levant (ISIL)       5613\n",
       "Al-Shabaab                                        3288\n",
       "Boko Haram                                        2418\n",
       "Communist Party of India - Maoist (CPI-Maoist)    1878\n",
       "New People's Army (NPA)                           1800\n",
       "Maoists                                           1619\n",
       "Tehrik-i-Taliban Pakistan (TTP)                   1351\n",
       "Revolutionary Armed Forces of Colombia (FARC)     1331\n",
       "Kurdistan Workers' Party (PKK)                    1285\n",
       "Name: gname, dtype: int64"
      ]
     },
     "execution_count": 231,
     "metadata": {},
     "output_type": "execute_result"
    }
   ],
   "source": [
    "#top 10 active groups\n",
    "grpCounts = known_grps.gname.value_counts()\n",
    "grpCounts.head(10)"
   ]
  },
  {
   "cell_type": "code",
   "execution_count": 232,
   "metadata": {},
   "outputs": [
    {
     "data": {
      "text/plain": [
       "(1686,)"
      ]
     },
     "execution_count": 232,
     "metadata": {},
     "output_type": "execute_result"
    }
   ],
   "source": [
    "#We are left with around 1700 groups to work with.\n",
    "#Of the total of around 3500 groups that were there in the original database, \n",
    "#some more than half had to be let go,this happened when we dropped summary column with null values.\n",
    "#They don't have summary descriptions against the incidents attributed to them.\n",
    "\n",
    "#To build a model using the group names dropped,\n",
    "#we have to pick columns manually from the other 134 columns,\n",
    "#which will be an exercise for another day\n",
    "\n",
    "grpCounts.shape"
   ]
  },
  {
   "cell_type": "code",
   "execution_count": 233,
   "metadata": {},
   "outputs": [
    {
     "data": {
      "text/plain": [
       "Taliban                                           6\n",
       "Islamic State of Iraq and the Levant (ISIL)       6\n",
       "Al-Shabaab                                        6\n",
       "Boko Haram                                        6\n",
       "Communist Party of India - Maoist (CPI-Maoist)    6\n",
       "Name: gname, dtype: category\n",
       "Categories (6, int64): [1 < 2 < 3 < 4 < 5 < 6]"
      ]
     },
     "execution_count": 233,
     "metadata": {},
     "output_type": "execute_result"
    }
   ],
   "source": [
    "#Binning Groups\n",
    "#Lets encode the group names.\n",
    "\n",
    "#6 being the most active & they have caused more than 500 incidents.\n",
    "#1 is the least active group & they have been attributed to only one incident.\n",
    "\n",
    "bins = (0, 1, 10, 50, 100, 500, 10000)\n",
    "labels = [1, 2, 3, 4, 5, 6]\n",
    "\n",
    "grpCuts = pd.cut(grpCounts, bins, labels=labels)\n",
    "grpCuts.head()"
   ]
  },
  {
   "cell_type": "code",
   "execution_count": 234,
   "metadata": {},
   "outputs": [
    {
     "data": {
      "text/html": [
       "<div>\n",
       "<style scoped>\n",
       "    .dataframe tbody tr th:only-of-type {\n",
       "        vertical-align: middle;\n",
       "    }\n",
       "\n",
       "    .dataframe tbody tr th {\n",
       "        vertical-align: top;\n",
       "    }\n",
       "\n",
       "    .dataframe thead th {\n",
       "        text-align: right;\n",
       "    }\n",
       "</style>\n",
       "<table border=\"1\" class=\"dataframe\">\n",
       "  <thead>\n",
       "    <tr style=\"text-align: right;\">\n",
       "      <th></th>\n",
       "      <th>Number of Groups</th>\n",
       "      <th>Number of Attacks (Range)</th>\n",
       "    </tr>\n",
       "    <tr>\n",
       "      <th>Group Code</th>\n",
       "      <th></th>\n",
       "      <th></th>\n",
       "    </tr>\n",
       "  </thead>\n",
       "  <tbody>\n",
       "    <tr>\n",
       "      <th>1</th>\n",
       "      <td>722</td>\n",
       "      <td>1</td>\n",
       "    </tr>\n",
       "    <tr>\n",
       "      <th>2</th>\n",
       "      <td>641</td>\n",
       "      <td>2-10</td>\n",
       "    </tr>\n",
       "    <tr>\n",
       "      <th>3</th>\n",
       "      <td>211</td>\n",
       "      <td>10-50</td>\n",
       "    </tr>\n",
       "    <tr>\n",
       "      <th>4</th>\n",
       "      <td>48</td>\n",
       "      <td>50-100</td>\n",
       "    </tr>\n",
       "    <tr>\n",
       "      <th>5</th>\n",
       "      <td>46</td>\n",
       "      <td>100-500</td>\n",
       "    </tr>\n",
       "    <tr>\n",
       "      <th>6</th>\n",
       "      <td>18</td>\n",
       "      <td>500-10000</td>\n",
       "    </tr>\n",
       "  </tbody>\n",
       "</table>\n",
       "</div>"
      ],
      "text/plain": [
       "            Number of Groups Number of Attacks (Range)\n",
       "Group Code                                            \n",
       "1                        722                         1\n",
       "2                        641                      2-10\n",
       "3                        211                     10-50\n",
       "4                         48                    50-100\n",
       "5                         46                   100-500\n",
       "6                         18                 500-10000"
      ]
     },
     "execution_count": 234,
     "metadata": {},
     "output_type": "execute_result"
    }
   ],
   "source": [
    "#Group distribution.\n",
    "#Dataframe below is a good depiction of the group distribution.\n",
    "#18 groups were most active. 722 groups were involved reported in only one incident.\n",
    "\n",
    "\n",
    "\n",
    "gt_grpCodes = pd.DataFrame({'Group Code':np.arange(1,7),\n",
    "            'Number of Groups':grpCuts.value_counts().sort_index(),\n",
    "            'Number of Attacks (Range)':['1', '2-10','10-50','50-100','100-500','500-10000']})\n",
    "gt_grpCodes.set_index('Group Code', inplace=True)\n",
    "gt_grpCodes"
   ]
  },
  {
   "cell_type": "code",
   "execution_count": 235,
   "metadata": {},
   "outputs": [
    {
     "data": {
      "text/plain": [
       "1686"
      ]
     },
     "execution_count": 235,
     "metadata": {},
     "output_type": "execute_result"
    }
   ],
   "source": [
    "gt_grpCodes['Number of Groups'].sum()"
   ]
  },
  {
   "cell_type": "code",
   "execution_count": 236,
   "metadata": {},
   "outputs": [],
   "source": [
    "grp_dict = {}\n",
    "\n",
    "for grp_Code in range(1,7):\n",
    "    grp_dict[grp_Code]= grpCuts[grpCuts.values==grp_Code].index.tolist()"
   ]
  },
  {
   "cell_type": "code",
   "execution_count": 237,
   "metadata": {},
   "outputs": [
    {
     "data": {
      "text/plain": [
       "['Hutu extremists',\n",
       " 'Niger Delta Avengers (NDA)',\n",
       " 'Tawhid and Jihad',\n",
       " 'Patriotic Resistance Front in Ituri (FRPI)',\n",
       " 'Popular Resistance Committees',\n",
       " 'Islamist extremists',\n",
       " 'Oglaigh na hEireann',\n",
       " 'Adan-Abyan Province of the Islamic State',\n",
       " 'Albanian extremists',\n",
       " 'Arakan Rohingya Salvation Army (ARSA)']"
      ]
     },
     "execution_count": 237,
     "metadata": {},
     "output_type": "execute_result"
    }
   ],
   "source": [
    "#taking a look\n",
    "grp_dict[3][:10]"
   ]
  },
  {
   "cell_type": "code",
   "execution_count": 238,
   "metadata": {},
   "outputs": [
    {
     "data": {
      "text/plain": [
       "['Taliban',\n",
       " 'Islamic State of Iraq and the Levant (ISIL)',\n",
       " 'Al-Shabaab',\n",
       " 'Boko Haram',\n",
       " 'Communist Party of India - Maoist (CPI-Maoist)',\n",
       " \"New People's Army (NPA)\",\n",
       " 'Maoists',\n",
       " 'Tehrik-i-Taliban Pakistan (TTP)',\n",
       " 'Revolutionary Armed Forces of Colombia (FARC)',\n",
       " \"Kurdistan Workers' Party (PKK)\"]"
      ]
     },
     "execution_count": 238,
     "metadata": {},
     "output_type": "execute_result"
    }
   ],
   "source": [
    "grp_dict[6][:10]"
   ]
  },
  {
   "cell_type": "code",
   "execution_count": 239,
   "metadata": {},
   "outputs": [],
   "source": [
    "# next step is to Map Group Names\n",
    "#Defining a function to map group names with their group codes.\n",
    "\n",
    "\n",
    "def grpCodes(gname):\n",
    "    for key,value in grp_dict.items():\n",
    "        if gname in value:\n",
    "            return key\n",
    "        \n"
   ]
  },
  {
   "cell_type": "code",
   "execution_count": 240,
   "metadata": {},
   "outputs": [
    {
     "data": {
      "text/html": [
       "<div>\n",
       "<style scoped>\n",
       "    .dataframe tbody tr th:only-of-type {\n",
       "        vertical-align: middle;\n",
       "    }\n",
       "\n",
       "    .dataframe tbody tr th {\n",
       "        vertical-align: top;\n",
       "    }\n",
       "\n",
       "    .dataframe thead th {\n",
       "        text-align: right;\n",
       "    }\n",
       "</style>\n",
       "<table border=\"1\" class=\"dataframe\">\n",
       "  <thead>\n",
       "    <tr style=\"text-align: right;\">\n",
       "      <th></th>\n",
       "      <th>summary</th>\n",
       "      <th>gname</th>\n",
       "      <th>gname_code</th>\n",
       "    </tr>\n",
       "  </thead>\n",
       "  <tbody>\n",
       "    <tr>\n",
       "      <th>5</th>\n",
       "      <td>1/1/1970: Unknown African American assailants ...</td>\n",
       "      <td>Black Nationalists</td>\n",
       "      <td>4</td>\n",
       "    </tr>\n",
       "    <tr>\n",
       "      <th>8</th>\n",
       "      <td>1/2/1970: Karl Armstrong, a member of the New ...</td>\n",
       "      <td>New Year's Gang</td>\n",
       "      <td>2</td>\n",
       "    </tr>\n",
       "    <tr>\n",
       "      <th>9</th>\n",
       "      <td>1/3/1970: Karl Armstrong, a member of the New ...</td>\n",
       "      <td>New Year's Gang</td>\n",
       "      <td>2</td>\n",
       "    </tr>\n",
       "    <tr>\n",
       "      <th>11</th>\n",
       "      <td>1/6/1970: Unknown perpetrators threw a Molotov...</td>\n",
       "      <td>Left-Wing Militants</td>\n",
       "      <td>5</td>\n",
       "    </tr>\n",
       "    <tr>\n",
       "      <th>13</th>\n",
       "      <td>1/9/1970: Unknown perpetrators set off a fireb...</td>\n",
       "      <td>Left-Wing Militants</td>\n",
       "      <td>5</td>\n",
       "    </tr>\n",
       "  </tbody>\n",
       "</table>\n",
       "</div>"
      ],
      "text/plain": [
       "                                              summary                gname  \\\n",
       "5   1/1/1970: Unknown African American assailants ...   Black Nationalists   \n",
       "8   1/2/1970: Karl Armstrong, a member of the New ...      New Year's Gang   \n",
       "9   1/3/1970: Karl Armstrong, a member of the New ...      New Year's Gang   \n",
       "11  1/6/1970: Unknown perpetrators threw a Molotov...  Left-Wing Militants   \n",
       "13  1/9/1970: Unknown perpetrators set off a fireb...  Left-Wing Militants   \n",
       "\n",
       "    gname_code  \n",
       "5            4  \n",
       "8            2  \n",
       "9            2  \n",
       "11           5  \n",
       "13           5  "
      ]
     },
     "execution_count": 240,
     "metadata": {},
     "output_type": "execute_result"
    }
   ],
   "source": [
    "known_grps['gname_code'] = known_grps.gname.map(lambda x:grpCodes(x))\n",
    "\n",
    "known_grps.head()"
   ]
  },
  {
   "cell_type": "code",
   "execution_count": 241,
   "metadata": {},
   "outputs": [
    {
     "data": {
      "text/html": [
       "<div>\n",
       "<style scoped>\n",
       "    .dataframe tbody tr th:only-of-type {\n",
       "        vertical-align: middle;\n",
       "    }\n",
       "\n",
       "    .dataframe tbody tr th {\n",
       "        vertical-align: top;\n",
       "    }\n",
       "\n",
       "    .dataframe thead th {\n",
       "        text-align: right;\n",
       "    }\n",
       "</style>\n",
       "<table border=\"1\" class=\"dataframe\">\n",
       "  <thead>\n",
       "    <tr style=\"text-align: right;\">\n",
       "      <th></th>\n",
       "      <th>Number of Groups</th>\n",
       "      <th>Number of Attacks (Range)</th>\n",
       "      <th>Total Number of attacks per group</th>\n",
       "    </tr>\n",
       "    <tr>\n",
       "      <th>Group Code</th>\n",
       "      <th></th>\n",
       "      <th></th>\n",
       "      <th></th>\n",
       "    </tr>\n",
       "  </thead>\n",
       "  <tbody>\n",
       "    <tr>\n",
       "      <th>1</th>\n",
       "      <td>722</td>\n",
       "      <td>1</td>\n",
       "      <td>722</td>\n",
       "    </tr>\n",
       "    <tr>\n",
       "      <th>2</th>\n",
       "      <td>641</td>\n",
       "      <td>2-10</td>\n",
       "      <td>2560</td>\n",
       "    </tr>\n",
       "    <tr>\n",
       "      <th>3</th>\n",
       "      <td>211</td>\n",
       "      <td>10-50</td>\n",
       "      <td>4916</td>\n",
       "    </tr>\n",
       "    <tr>\n",
       "      <th>4</th>\n",
       "      <td>48</td>\n",
       "      <td>50-100</td>\n",
       "      <td>3492</td>\n",
       "    </tr>\n",
       "    <tr>\n",
       "      <th>5</th>\n",
       "      <td>46</td>\n",
       "      <td>100-500</td>\n",
       "      <td>10522</td>\n",
       "    </tr>\n",
       "    <tr>\n",
       "      <th>6</th>\n",
       "      <td>18</td>\n",
       "      <td>500-10000</td>\n",
       "      <td>33717</td>\n",
       "    </tr>\n",
       "  </tbody>\n",
       "</table>\n",
       "</div>"
      ],
      "text/plain": [
       "            Number of Groups Number of Attacks (Range)  \\\n",
       "Group Code                                               \n",
       "1                        722                         1   \n",
       "2                        641                      2-10   \n",
       "3                        211                     10-50   \n",
       "4                         48                    50-100   \n",
       "5                         46                   100-500   \n",
       "6                         18                 500-10000   \n",
       "\n",
       "            Total Number of attacks per group  \n",
       "Group Code                                     \n",
       "1                                         722  \n",
       "2                                        2560  \n",
       "3                                        4916  \n",
       "4                                        3492  \n",
       "5                                       10522  \n",
       "6                                       33717  "
      ]
     },
     "execution_count": 241,
     "metadata": {},
     "output_type": "execute_result"
    }
   ],
   "source": [
    "# lets analyse Group Distributions\n",
    "\n",
    "#Number of incidents attributed to the groups encoded. Groups 1 to 6.\n",
    "\n",
    "#Group 6 caused an unproportionate high number of attacks. And they consist of just 18 groups.\n",
    "\n",
    "\n",
    "gt_grpCodes['Total Number of attacks per group'] =known_grps.gname_code.value_counts().sort_index()\n",
    "\n",
    "gt_grpCodes\n"
   ]
  },
  {
   "cell_type": "code",
   "execution_count": 242,
   "metadata": {},
   "outputs": [],
   "source": [
    "#Features and Targets\n",
    "\n",
    "#x is the independent variable summary column descriptions of the terrorist incident.\n",
    "\n",
    "#y is the target variable terrorist groups responsible.\n"
   ]
  },
  {
   "cell_type": "code",
   "execution_count": 243,
   "metadata": {},
   "outputs": [],
   "source": [
    "x = known_grps.summary\n",
    "y = known_grps.gname_code"
   ]
  },
  {
   "cell_type": "code",
   "execution_count": 244,
   "metadata": {},
   "outputs": [
    {
     "data": {
      "text/plain": [
       "((55929,), (55929,))"
      ]
     },
     "execution_count": 244,
     "metadata": {},
     "output_type": "execute_result"
    }
   ],
   "source": [
    "#Checking shape of feature and target. We will be working with around 56,000 features and targets.\n",
    "\n",
    "x.shape,y.shape"
   ]
  },
  {
   "cell_type": "code",
   "execution_count": 245,
   "metadata": {},
   "outputs": [
    {
     "data": {
      "text/plain": [
       "(pandas.core.series.Series, pandas.core.series.Series)"
      ]
     },
     "execution_count": 245,
     "metadata": {},
     "output_type": "execute_result"
    }
   ],
   "source": [
    "#Checking data type of x and y. \n",
    "#Scikit Learn models expect numpy arrays. \n",
    "#But because pandas is built on top of Numpy, pandas series is fine too.\n",
    "\n",
    "type(x),type(y)"
   ]
  },
  {
   "cell_type": "code",
   "execution_count": 246,
   "metadata": {},
   "outputs": [],
   "source": [
    "#70:30 split\n",
    "from sklearn.model_selection import train_test_split\n",
    "x_train, x_test, y_train, y_test = train_test_split(x, y, test_size = 0.3, random_state = 42)"
   ]
  },
  {
   "cell_type": "code",
   "execution_count": 247,
   "metadata": {},
   "outputs": [
    {
     "name": "stdout",
     "output_type": "stream",
     "text": [
      "(39150,)\n",
      "(16779,)\n",
      "(39150,)\n",
      "(16779,)\n"
     ]
    }
   ],
   "source": [
    "#peeking into our data splits\n",
    "splits = [x_train, x_test, y_train, y_test]\n",
    "for a in splits:\n",
    "    print(a.shape)"
   ]
  },
  {
   "cell_type": "code",
   "execution_count": 248,
   "metadata": {},
   "outputs": [],
   "source": [
    "#Vectorising Texts\n",
    "#Initialise CountVectorizer. \n",
    "#This will be used to vectorise the summary texts, \n",
    "#which can then be used to feed into machine learning models."
   ]
  },
  {
   "cell_type": "code",
   "execution_count": 249,
   "metadata": {},
   "outputs": [],
   "source": [
    "vect = CountVectorizer()"
   ]
  },
  {
   "cell_type": "code",
   "execution_count": 250,
   "metadata": {},
   "outputs": [
    {
     "data": {
      "text/plain": [
       "CountVectorizer(analyzer='word', binary=False, decode_error='strict',\n",
       "        dtype=<class 'numpy.int64'>, encoding='utf-8', input='content',\n",
       "        lowercase=True, max_df=1.0, max_features=None, min_df=1,\n",
       "        ngram_range=(1, 1), preprocessor=None, stop_words=None,\n",
       "        strip_accents=None, token_pattern='(?u)\\\\b\\\\w\\\\w+\\\\b',\n",
       "        tokenizer=None, vocabulary=None)"
      ]
     },
     "execution_count": 250,
     "metadata": {},
     "output_type": "execute_result"
    }
   ],
   "source": [
    "vect.fit(x_train) #the vocabulary from the training samples here."
   ]
  },
  {
   "cell_type": "code",
   "execution_count": 251,
   "metadata": {},
   "outputs": [
    {
     "data": {
      "text/plain": [
       "<39150x45015 sparse matrix of type '<class 'numpy.int64'>'\n",
       "\twith 1683814 stored elements in Compressed Sparse Row format>"
      ]
     },
     "execution_count": 251,
     "metadata": {},
     "output_type": "execute_result"
    }
   ],
   "source": [
    "#Converts the learned vocabulary into matrix. dtm is short for document term matrix.\n",
    "\n",
    "x_train_dtm = vect.transform(x_train)\n",
    "x_train_dtm"
   ]
  },
  {
   "cell_type": "code",
   "execution_count": 252,
   "metadata": {},
   "outputs": [],
   "source": [
    "#Transforming the test set.\n"
   ]
  },
  {
   "cell_type": "code",
   "execution_count": 253,
   "metadata": {},
   "outputs": [
    {
     "data": {
      "text/plain": [
       "<16779x45015 sparse matrix of type '<class 'numpy.int64'>'\n",
       "\twith 709434 stored elements in Compressed Sparse Row format>"
      ]
     },
     "execution_count": 253,
     "metadata": {},
     "output_type": "execute_result"
    }
   ],
   "source": [
    "x_test_dtm = vect.transform(x_test)\n",
    "x_test_dtm"
   ]
  },
  {
   "cell_type": "code",
   "execution_count": 254,
   "metadata": {},
   "outputs": [],
   "source": [
    "#Naive Bayes\n",
    "#Intialising Naive Bayes."
   ]
  },
  {
   "cell_type": "code",
   "execution_count": 255,
   "metadata": {},
   "outputs": [],
   "source": [
    "nb = MultinomialNB()"
   ]
  },
  {
   "cell_type": "code",
   "execution_count": 256,
   "metadata": {},
   "outputs": [
    {
     "data": {
      "text/plain": [
       "MultinomialNB(alpha=1.0, class_prior=None, fit_prior=True)"
      ]
     },
     "execution_count": 256,
     "metadata": {},
     "output_type": "execute_result"
    }
   ],
   "source": [
    "nb.fit(x_train_dtm, y_train) #pass x_train_dtm"
   ]
  },
  {
   "cell_type": "code",
   "execution_count": 257,
   "metadata": {},
   "outputs": [],
   "source": [
    "y_pred_nb = nb.predict(x_test_dtm)"
   ]
  },
  {
   "cell_type": "code",
   "execution_count": 258,
   "metadata": {},
   "outputs": [
    {
     "data": {
      "text/plain": [
       "0.8524941891650277"
      ]
     },
     "execution_count": 258,
     "metadata": {},
     "output_type": "execute_result"
    }
   ],
   "source": [
    "metrics.accuracy_score(y_test, y_pred_nb)  #Naive Bayes gives accuracy score of around 85%."
   ]
  },
  {
   "cell_type": "code",
   "execution_count": 259,
   "metadata": {},
   "outputs": [
    {
     "data": {
      "text/plain": [
       "array([[   0,   27,   72,   17,   69,   43],\n",
       "       [   0,  152,  174,   48,  250,  161],\n",
       "       [   0,    9,  875,   55,  287,  281],\n",
       "       [   0,    5,   48,  627,  195,  131],\n",
       "       [   0,    3,   51,   52, 2855,  274],\n",
       "       [   0,   11,   79,   16,  117, 9795]])"
      ]
     },
     "execution_count": 259,
     "metadata": {},
     "output_type": "execute_result"
    }
   ],
   "source": [
    "#Confusion Matrix - we get a 6 by 6 matrix for 6 groups. \n",
    "#The topmost left is for group 1 while bottom right corner is for group 6.\n",
    "\n",
    "#Naive Bayes did pretty well with predicting groups from group 6\n",
    "#but it struggled to find any predictions from group 1, perhaps because of less samples.\n",
    "\n",
    "metrics.confusion_matrix(y_test, y_pred_nb)"
   ]
  },
  {
   "cell_type": "code",
   "execution_count": 260,
   "metadata": {},
   "outputs": [
    {
     "name": "stdout",
     "output_type": "stream",
     "text": [
      "             precision    recall  f1-score   support\n",
      "\n",
      "          1       0.00      0.00      0.00       228\n",
      "          2       0.73      0.19      0.31       785\n",
      "          3       0.67      0.58      0.62      1507\n",
      "          4       0.77      0.62      0.69      1006\n",
      "          5       0.76      0.88      0.81      3235\n",
      "          6       0.92      0.98      0.95     10018\n",
      "\n",
      "avg / total       0.83      0.85      0.83     16779\n",
      "\n"
     ]
    }
   ],
   "source": [
    "#Below we get f1 score along with precision and recall.\n",
    "\n",
    "#Notice how for group 6, it looks quite good, while for group 1 it is all 0. Overall f1 score is 83%.\n",
    "\n",
    "print(metrics.classification_report(y_test, y_pred_nb))"
   ]
  },
  {
   "cell_type": "code",
   "execution_count": 261,
   "metadata": {},
   "outputs": [],
   "source": [
    "#Logistic regression\n",
    "\n",
    "lr = LogisticRegression()"
   ]
  },
  {
   "cell_type": "code",
   "execution_count": 262,
   "metadata": {},
   "outputs": [
    {
     "data": {
      "text/plain": [
       "LogisticRegression(C=1.0, class_weight=None, dual=False, fit_intercept=True,\n",
       "          intercept_scaling=1, max_iter=100, multi_class='ovr', n_jobs=1,\n",
       "          penalty='l2', random_state=None, solver='liblinear', tol=0.0001,\n",
       "          verbose=0, warm_start=False)"
      ]
     },
     "execution_count": 262,
     "metadata": {},
     "output_type": "execute_result"
    }
   ],
   "source": [
    "lr.fit(x_train_dtm, y_train) #Fitting a model with Logistic Regression.\n"
   ]
  },
  {
   "cell_type": "code",
   "execution_count": 263,
   "metadata": {},
   "outputs": [],
   "source": [
    "y_pred_lr = lr.predict(x_test_dtm)"
   ]
  },
  {
   "cell_type": "code",
   "execution_count": 264,
   "metadata": {},
   "outputs": [
    {
     "data": {
      "text/plain": [
       "0.9290780141843972"
      ]
     },
     "execution_count": 264,
     "metadata": {},
     "output_type": "execute_result"
    }
   ],
   "source": [
    "#We get accuracy score of 92%, much higher than Naive Bayes.\n",
    "\n",
    "#So looks like the trade off is between speed and accuracy.\n",
    "\n",
    "metrics.accuracy_score(y_test, y_pred_lr)"
   ]
  },
  {
   "cell_type": "code",
   "execution_count": 265,
   "metadata": {},
   "outputs": [
    {
     "data": {
      "text/plain": [
       "array([[  29,   73,   54,   10,   29,   33],\n",
       "       [  18,  466,  124,   38,   83,   56],\n",
       "       [  11,   57, 1202,   42,  108,   87],\n",
       "       [   3,   13,   41,  879,   25,   45],\n",
       "       [   3,   20,   56,   20, 3097,   39],\n",
       "       [   1,   12,   35,   11,   43, 9916]])"
      ]
     },
     "execution_count": 265,
     "metadata": {},
     "output_type": "execute_result"
    }
   ],
   "source": [
    "#Confusion Matrix for Logistic Regression.\n",
    "\n",
    "#Notice here that it did predict some group 1s, unlike with Naive Bayes. It did well with group 6 anyways.\n",
    "\n",
    "metrics.confusion_matrix(y_test, y_pred_lr)"
   ]
  },
  {
   "cell_type": "code",
   "execution_count": 266,
   "metadata": {},
   "outputs": [
    {
     "name": "stdout",
     "output_type": "stream",
     "text": [
      "             precision    recall  f1-score   support\n",
      "\n",
      "          1       0.45      0.13      0.20       228\n",
      "          2       0.73      0.59      0.65       785\n",
      "          3       0.79      0.80      0.80      1507\n",
      "          4       0.88      0.87      0.88      1006\n",
      "          5       0.91      0.96      0.94      3235\n",
      "          6       0.97      0.99      0.98     10018\n",
      "\n",
      "avg / total       0.92      0.93      0.92     16779\n",
      "\n"
     ]
    }
   ],
   "source": [
    "#F1 score along with precision and recall for Logistic Regression.\n",
    "\n",
    "#Here, interesting to note is precisiong and recall for group 1 is no longer 0 like with Naive Bayes.\n",
    "\n",
    "print(metrics.classification_report(y_test, y_pred_lr))"
   ]
  },
  {
   "cell_type": "code",
   "execution_count": 267,
   "metadata": {},
   "outputs": [],
   "source": [
    "#A Variation of KFold Cross Validation (4 fold CV)\n",
    "#Now that we have tried once with both Naive Bayes and Logistic Regression, \n",
    "#lets try few runs of each and take their means so that the results we got above was not a one-time-lucky phenomenon.\n",
    "\n",
    "#To achieve that lets define a function as below.\n",
    "\n",
    "#The function will run for 4 iterations,\n",
    "#and return accuracy scores and f1 scores for the 4 runs. We will use them to calculate means of the scores."
   ]
  },
  {
   "cell_type": "code",
   "execution_count": 268,
   "metadata": {},
   "outputs": [],
   "source": [
    "def mean_clf(x, y, clf):\n",
    "    \n",
    "    accuracyScores = []\n",
    "    f1Scores = []\n",
    "    \n",
    "    for iter in range(4):    \n",
    "        \n",
    "        x_train, x_test, y_train, y_test = train_test_split(x, y)\n",
    "        \n",
    "        vect = CountVectorizer()\n",
    "        vect.fit(x_train)\n",
    "        x_train_dtm = vect.transform(x_train)\n",
    "        x_test_dtm = vect.transform(x_test)\n",
    "\n",
    "        clf.fit(x_train_dtm, y_train)\n",
    "        y_pred = clf.predict(x_test_dtm)\n",
    "        accuracy = metrics.accuracy_score(y_test, y_pred)\n",
    "        f1 = metrics.f1_score(y_test, y_pred, average='weighted')\n",
    "        accuracyScores.append(accuracy)\n",
    "        f1Scores.append(f1)\n",
    "    \n",
    "    return accuracyScores, f1Scores"
   ]
  },
  {
   "cell_type": "code",
   "execution_count": 269,
   "metadata": {},
   "outputs": [
    {
     "name": "stdout",
     "output_type": "stream",
     "text": [
      "[0.8581849388543231, 0.8534649216906244, 0.8586855467353215, 0.8568261460344704]\n",
      "[0.8404619219819726, 0.8350451266548103, 0.8407946552327665, 0.8398419759330269]\n"
     ]
    }
   ],
   "source": [
    "#for naive bayes\n",
    "\n",
    "\n",
    "nb = MultinomialNB()\n",
    "accuracy_nb, f1_nb = mean_clf(x, y, nb)\n",
    "print(accuracy_nb)\n",
    "print(f1_nb)"
   ]
  },
  {
   "cell_type": "code",
   "execution_count": 270,
   "metadata": {},
   "outputs": [],
   "source": [
    "#The results look consistent.\n",
    "\n",
    "#Trying with Logistic Regression"
   ]
  },
  {
   "cell_type": "code",
   "execution_count": 271,
   "metadata": {},
   "outputs": [
    {
     "name": "stdout",
     "output_type": "stream",
     "text": [
      "[0.9350640062933562, 0.9314167203032253, 0.9311306586569406, 0.9324894514767933]\n",
      "[0.9309512206670394, 0.9266000826159237, 0.9263570914832172, 0.9271856920016663]\n"
     ]
    }
   ],
   "source": [
    "lr = LogisticRegression()\n",
    "accuracy_lr, f1_lr = mean_clf(x, y, lr)\n",
    "print(accuracy_lr)\n",
    "print(f1_lr)"
   ]
  },
  {
   "cell_type": "code",
   "execution_count": 272,
   "metadata": {},
   "outputs": [
    {
     "data": {
      "text/html": [
       "<div>\n",
       "<style scoped>\n",
       "    .dataframe tbody tr th:only-of-type {\n",
       "        vertical-align: middle;\n",
       "    }\n",
       "\n",
       "    .dataframe tbody tr th {\n",
       "        vertical-align: top;\n",
       "    }\n",
       "\n",
       "    .dataframe thead th {\n",
       "        text-align: right;\n",
       "    }\n",
       "</style>\n",
       "<table border=\"1\" class=\"dataframe\">\n",
       "  <thead>\n",
       "    <tr style=\"text-align: right;\">\n",
       "      <th></th>\n",
       "      <th>Accuracy Score</th>\n",
       "      <th>F1 Score</th>\n",
       "    </tr>\n",
       "  </thead>\n",
       "  <tbody>\n",
       "    <tr>\n",
       "      <th>Naive Bayes</th>\n",
       "      <td>0.856790</td>\n",
       "      <td>0.839036</td>\n",
       "    </tr>\n",
       "    <tr>\n",
       "      <th>Logistic Regression</th>\n",
       "      <td>0.932525</td>\n",
       "      <td>0.927774</td>\n",
       "    </tr>\n",
       "  </tbody>\n",
       "</table>\n",
       "</div>"
      ],
      "text/plain": [
       "                     Accuracy Score  F1 Score\n",
       "Naive Bayes                0.856790  0.839036\n",
       "Logistic Regression        0.932525  0.927774"
      ]
     },
     "execution_count": 272,
     "metadata": {},
     "output_type": "execute_result"
    }
   ],
   "source": [
    "#The results look consistent for Logistic Regression too.\n",
    "\n",
    "#Lets build a dataframe to summarise\n",
    "\n",
    "pd.DataFrame({'Accuracy Score':[np.array(accuracy_nb).mean(), np.array(accuracy_lr).mean()],\n",
    "             'F1 Score': [np.array(f1_nb).mean(), np.array(f1_lr).mean()]},\n",
    "             index=['Naive Bayes','Logistic Regression'])"
   ]
  },
  {
   "cell_type": "code",
   "execution_count": 273,
   "metadata": {},
   "outputs": [],
   "source": [
    "#Predicting Unknown Groups\n",
    "#So we have worked with building 2 models - Naive Bayes and Logistic Regression, and evaluated them.\n",
    "\n",
    "#Now let's see what the predictions for the Unknown groups come out to be.\n",
    "\n",
    "#Before we predict, we should use the whole dataset to train again, else we end up throwing away useful data.\n",
    "\n",
    "#Lets use CountVectorizer to vectorise x - this has the whole dataset. Not just training set.\n",
    "\n"
   ]
  },
  {
   "cell_type": "code",
   "execution_count": 274,
   "metadata": {},
   "outputs": [],
   "source": [
    "vect = CountVectorizer()\n",
    "vect.fit(x)\n",
    "x_dtm = vect.transform(x)\n",
    "unknown_grps_dtm = vect.transform(unknown_grps.summary)"
   ]
  },
  {
   "cell_type": "code",
   "execution_count": 275,
   "metadata": {},
   "outputs": [
    {
     "name": "stdout",
     "output_type": "stream",
     "text": [
      "[4 4 4 ... 6 3 5]\n"
     ]
    }
   ],
   "source": [
    "nb = MultinomialNB()\n",
    "nb.fit(x_dtm, y)\n",
    "unknown_grps_pred_nb = nb.predict(unknown_grps_dtm)\n",
    "print(unknown_grps_pred_nb)  #Predicting with Naive Bayes."
   ]
  },
  {
   "cell_type": "code",
   "execution_count": 276,
   "metadata": {},
   "outputs": [
    {
     "name": "stdout",
     "output_type": "stream",
     "text": [
      "[4 5 4 ... 6 3 5]\n"
     ]
    }
   ],
   "source": [
    "lr = LogisticRegression()\n",
    "lr.fit(x_dtm, y)\n",
    "unknown_grps_pred_lr = lr.predict(unknown_grps_dtm)\n",
    "print(unknown_grps_pred_lr)  #Logistic regression"
   ]
  },
  {
   "cell_type": "code",
   "execution_count": 277,
   "metadata": {},
   "outputs": [
    {
     "data": {
      "text/plain": [
       "1        1\n",
       "2      562\n",
       "3     4889\n",
       "4     1649\n",
       "5    15286\n",
       "6    37246\n",
       "dtype: int64"
      ]
     },
     "execution_count": 277,
     "metadata": {},
     "output_type": "execute_result"
    }
   ],
   "source": [
    "#distribution of predictions - NB\n",
    "\n",
    "nb_pred = pd.Series(unknown_grps_pred_nb).value_counts().sort_index()\n",
    "nb_pred"
   ]
  },
  {
   "cell_type": "code",
   "execution_count": 278,
   "metadata": {},
   "outputs": [
    {
     "data": {
      "text/plain": [
       "1      806\n",
       "2     3478\n",
       "3     7438\n",
       "4     2980\n",
       "5    13430\n",
       "6    31501\n",
       "dtype: int64"
      ]
     },
     "execution_count": 278,
     "metadata": {},
     "output_type": "execute_result"
    }
   ],
   "source": [
    "#distribution of predictions - LR\n",
    "\n",
    "lr_pred = pd.Series(unknown_grps_pred_lr).value_counts().sort_index()\n",
    "lr_pred"
   ]
  },
  {
   "cell_type": "code",
   "execution_count": 280,
   "metadata": {},
   "outputs": [
    {
     "data": {
      "text/html": [
       "<div>\n",
       "<style scoped>\n",
       "    .dataframe tbody tr th:only-of-type {\n",
       "        vertical-align: middle;\n",
       "    }\n",
       "\n",
       "    .dataframe tbody tr th {\n",
       "        vertical-align: top;\n",
       "    }\n",
       "\n",
       "    .dataframe thead th {\n",
       "        text-align: right;\n",
       "    }\n",
       "</style>\n",
       "<table border=\"1\" class=\"dataframe\">\n",
       "  <thead>\n",
       "    <tr style=\"text-align: right;\">\n",
       "      <th></th>\n",
       "      <th>Naive Bayes</th>\n",
       "      <th>Logistic Regression</th>\n",
       "    </tr>\n",
       "    <tr>\n",
       "      <th>Group Code</th>\n",
       "      <th></th>\n",
       "      <th></th>\n",
       "    </tr>\n",
       "  </thead>\n",
       "  <tbody>\n",
       "    <tr>\n",
       "      <th>1</th>\n",
       "      <td>1</td>\n",
       "      <td>806</td>\n",
       "    </tr>\n",
       "    <tr>\n",
       "      <th>2</th>\n",
       "      <td>562</td>\n",
       "      <td>3478</td>\n",
       "    </tr>\n",
       "    <tr>\n",
       "      <th>3</th>\n",
       "      <td>4889</td>\n",
       "      <td>7438</td>\n",
       "    </tr>\n",
       "    <tr>\n",
       "      <th>4</th>\n",
       "      <td>1649</td>\n",
       "      <td>2980</td>\n",
       "    </tr>\n",
       "    <tr>\n",
       "      <th>5</th>\n",
       "      <td>15286</td>\n",
       "      <td>13430</td>\n",
       "    </tr>\n",
       "    <tr>\n",
       "      <th>6</th>\n",
       "      <td>37246</td>\n",
       "      <td>31501</td>\n",
       "    </tr>\n",
       "  </tbody>\n",
       "</table>\n",
       "</div>"
      ],
      "text/plain": [
       "            Naive Bayes  Logistic Regression\n",
       "Group Code                                  \n",
       "1                     1                  806\n",
       "2                   562                 3478\n",
       "3                  4889                 7438\n",
       "4                  1649                 2980\n",
       "5                 15286                13430\n",
       "6                 37246                31501"
      ]
     },
     "execution_count": 280,
     "metadata": {},
     "output_type": "execute_result"
    }
   ],
   "source": [
    "#summarise the predictions of both models\n",
    "\n",
    "gt_pred = pd.DataFrame({'Naive Bayes': nb_pred,\n",
    "             'Logistic Regression': lr_pred,\n",
    "             'Group Code': np.arange(1, 7)}).set_index('Group Code')\n",
    "gt_pred = gt_pred[['Naive Bayes','Logistic Regression']]\n",
    "gt_pred"
   ]
  },
  {
   "cell_type": "code",
   "execution_count": null,
   "metadata": {},
   "outputs": [],
   "source": []
  },
  {
   "cell_type": "code",
   "execution_count": null,
   "metadata": {},
   "outputs": [],
   "source": []
  }
 ],
 "metadata": {
  "kernelspec": {
   "display_name": "Python 3",
   "language": "python",
   "name": "python3"
  },
  "language_info": {
   "codemirror_mode": {
    "name": "ipython",
    "version": 3
   },
   "file_extension": ".py",
   "mimetype": "text/x-python",
   "name": "python",
   "nbconvert_exporter": "python",
   "pygments_lexer": "ipython3",
   "version": "3.6.5"
  }
 },
 "nbformat": 4,
 "nbformat_minor": 2
}
